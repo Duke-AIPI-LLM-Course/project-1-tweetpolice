{
 "cells": [
  {
   "cell_type": "markdown",
   "metadata": {},
   "source": [
    "### Fine tuning a BerT model for toxicity"
   ]
  },
  {
   "cell_type": "code",
   "execution_count": 1,
   "metadata": {},
   "outputs": [
    {
     "name": "stderr",
     "output_type": "stream",
     "text": [
      "/home/shaunak/.virtualenvs/llm_project/lib/python3.10/site-packages/tqdm/auto.py:21: TqdmWarning: IProgress not found. Please update jupyter and ipywidgets. See https://ipywidgets.readthedocs.io/en/stable/user_install.html\n",
      "  from .autonotebook import tqdm as notebook_tqdm\n"
     ]
    }
   ],
   "source": [
    "from transformers import BertTokenizer, BertForSequenceClassification\n",
    "import torch\n",
    "from torch.utils.data import DataLoader\n",
    "from datasets import load_dataset\n",
    "import torch.nn.functional as F\n",
    "from sklearn.metrics import accuracy_score, precision_score, f1_score\n",
    "from sklearn.metrics import confusion_matrix, ConfusionMatrixDisplay\n",
    "import matplotlib.pyplot as plt\n",
    "from peft import LoraConfig, get_peft_model, PeftType, TaskType\n",
    "from transformers import (\n",
    "    TrainingArguments,\n",
    "    Trainer,\n",
    "    TrainerCallback\n",
    ")"
   ]
  },
  {
   "cell_type": "code",
   "execution_count": 2,
   "metadata": {},
   "outputs": [],
   "source": [
    "peft_config = LoraConfig(\n",
    "    r=16,\n",
    "    lora_alpha=32,\n",
    "    target_modules=[\"query\", \"key\"],\n",
    "    lora_dropout=0.05,\n",
    "    bias=\"none\",\n",
    "    task_type=TaskType.SEQ_CLS\n",
    ")"
   ]
  },
  {
   "cell_type": "code",
   "execution_count": 3,
   "metadata": {},
   "outputs": [],
   "source": [
    "MODEL_NAME = \"bert-base-uncased\" \n",
    "train_data_path = \"../data/random_over/train.json\"\n",
    "val_data_path = \"../data/random_over/val.json\""
   ]
  },
  {
   "cell_type": "code",
   "execution_count": 4,
   "metadata": {},
   "outputs": [],
   "source": [
    "device = \"cuda\" if torch.cuda.is_available() else \"cpu\""
   ]
  },
  {
   "cell_type": "code",
   "execution_count": 5,
   "metadata": {},
   "outputs": [
    {
     "name": "stderr",
     "output_type": "stream",
     "text": [
      "Some weights of BertForSequenceClassification were not initialized from the model checkpoint at bert-base-uncased and are newly initialized: ['classifier.bias', 'classifier.weight']\n",
      "You should probably TRAIN this model on a down-stream task to be able to use it for predictions and inference.\n"
     ]
    },
    {
     "name": "stdout",
     "output_type": "stream",
     "text": [
      "Is model training?  False\n",
      "Predicted class: 2\n"
     ]
    },
    {
     "name": "stderr",
     "output_type": "stream",
     "text": [
      "/home/shaunak/.virtualenvs/llm_project/lib/python3.10/site-packages/torch/nn/modules/linear.py:125: UserWarning: Attempting to use hipBLASLt on an unsupported architecture! Overriding blas backend to hipblas (Triggered internally at /pytorch/aten/src/ATen/Context.cpp:310.)\n",
      "  return F.linear(input, self.weight, self.bias)\n"
     ]
    }
   ],
   "source": [
    "\n",
    "\n",
    "# Load pre-trained model and tokenizer\n",
    "tokenizer = BertTokenizer.from_pretrained(MODEL_NAME)\n",
    "model = BertForSequenceClassification.from_pretrained(MODEL_NAME, num_labels=3)  # Adjust num_labels based on the task\n",
    "model.to(device)\n",
    "print(\"Is model training? \", model.training)\n",
    "# Set model to evaluation mode\n",
    "model.eval()\n",
    "\n",
    "def predict(text):\n",
    "    inputs = tokenizer(text, return_tensors=\"pt\", truncation=True, padding=True, max_length=512).to(device)\n",
    "    \n",
    "    with torch.no_grad():\n",
    "        outputs = model(**inputs)\n",
    "    \n",
    "    logits = outputs.logits\n",
    "    predicted_class = torch.argmax(logits, dim=1).item()\n",
    "\n",
    "    return predicted_class\n",
    "\n",
    "# Example usage\n",
    "text = \"BERT is a powerful language model!\"\n",
    "prediction = predict(text)\n",
    "print(f\"Predicted class: {prediction}\")"
   ]
  },
  {
   "cell_type": "code",
   "execution_count": 6,
   "metadata": {},
   "outputs": [
    {
     "data": {
      "text/plain": [
       "BertForSequenceClassification(\n",
       "  (bert): BertModel(\n",
       "    (embeddings): BertEmbeddings(\n",
       "      (word_embeddings): Embedding(30522, 768, padding_idx=0)\n",
       "      (position_embeddings): Embedding(512, 768)\n",
       "      (token_type_embeddings): Embedding(2, 768)\n",
       "      (LayerNorm): LayerNorm((768,), eps=1e-12, elementwise_affine=True)\n",
       "      (dropout): Dropout(p=0.1, inplace=False)\n",
       "    )\n",
       "    (encoder): BertEncoder(\n",
       "      (layer): ModuleList(\n",
       "        (0-11): 12 x BertLayer(\n",
       "          (attention): BertAttention(\n",
       "            (self): BertSdpaSelfAttention(\n",
       "              (query): Linear(in_features=768, out_features=768, bias=True)\n",
       "              (key): Linear(in_features=768, out_features=768, bias=True)\n",
       "              (value): Linear(in_features=768, out_features=768, bias=True)\n",
       "              (dropout): Dropout(p=0.1, inplace=False)\n",
       "            )\n",
       "            (output): BertSelfOutput(\n",
       "              (dense): Linear(in_features=768, out_features=768, bias=True)\n",
       "              (LayerNorm): LayerNorm((768,), eps=1e-12, elementwise_affine=True)\n",
       "              (dropout): Dropout(p=0.1, inplace=False)\n",
       "            )\n",
       "          )\n",
       "          (intermediate): BertIntermediate(\n",
       "            (dense): Linear(in_features=768, out_features=3072, bias=True)\n",
       "            (intermediate_act_fn): GELUActivation()\n",
       "          )\n",
       "          (output): BertOutput(\n",
       "            (dense): Linear(in_features=3072, out_features=768, bias=True)\n",
       "            (LayerNorm): LayerNorm((768,), eps=1e-12, elementwise_affine=True)\n",
       "            (dropout): Dropout(p=0.1, inplace=False)\n",
       "          )\n",
       "        )\n",
       "      )\n",
       "    )\n",
       "    (pooler): BertPooler(\n",
       "      (dense): Linear(in_features=768, out_features=768, bias=True)\n",
       "      (activation): Tanh()\n",
       "    )\n",
       "  )\n",
       "  (dropout): Dropout(p=0.1, inplace=False)\n",
       "  (classifier): Linear(in_features=768, out_features=3, bias=True)\n",
       ")"
      ]
     },
     "execution_count": 6,
     "metadata": {},
     "output_type": "execute_result"
    }
   ],
   "source": [
    "model"
   ]
  },
  {
   "cell_type": "code",
   "execution_count": 7,
   "metadata": {},
   "outputs": [],
   "source": [
    "lora_model = get_peft_model(model, peft_config)"
   ]
  },
  {
   "cell_type": "markdown",
   "metadata": {},
   "source": [
    "### Dataset loader"
   ]
  },
  {
   "cell_type": "code",
   "execution_count": 8,
   "metadata": {},
   "outputs": [],
   "source": [
    "def process_data(tokenizer, data_path = val_data_path):\n",
    "    if tokenizer.pad_token is None:\n",
    "        tokenizer.pad_token = '[PAD]'\n",
    "    dataset = load_dataset(\"json\", data_files=data_path, split=\"train\")\n",
    "\n",
    "    def format_example(example):\n",
    "        instruction = example['Question']\n",
    "        inputs = tokenizer(\n",
    "            f\"{instruction}\\n<|endoftext|>\",\n",
    "            padding=\"max_length\",\n",
    "            truncation=True,\n",
    "            max_length=512,\n",
    "            return_tensors=\"pt\"\n",
    "        )\n",
    "        return {\n",
    "            \"input_ids\": inputs[\"input_ids\"].squeeze(0), \n",
    "            \"attention_mask\": inputs[\"attention_mask\"].squeeze(0),\n",
    "            \"labels\": example[\"Label\"]\n",
    "        }\n",
    "\n",
    "    return dataset.map(format_example, remove_columns=dataset.column_names)"
   ]
  },
  {
   "cell_type": "code",
   "execution_count": 9,
   "metadata": {},
   "outputs": [],
   "source": [
    "data_path = val_data_path\n",
    "dataset = process_data(tokenizer)"
   ]
  },
  {
   "cell_type": "code",
   "execution_count": 10,
   "metadata": {},
   "outputs": [],
   "source": [
    "def data_collator(data):\n",
    "    batch = {\n",
    "        \"input_ids\": torch.stack([torch.tensor(d[\"input_ids\"]) for d in data]).to(device),\n",
    "        \"attention_mask\": torch.stack([torch.tensor(d[\"attention_mask\"]) for d in data]).to(device),\n",
    "        # use input_ids as labels.\n",
    "        \"labels\": torch.stack([torch.tensor(d[\"labels\"]) for d in data]).to(device)\n",
    "    }\n",
    "    return batch"
   ]
  },
  {
   "cell_type": "code",
   "execution_count": 11,
   "metadata": {},
   "outputs": [],
   "source": [
    "dataloader = DataLoader(dataset, batch_size=8, collate_fn=data_collator)"
   ]
  },
  {
   "cell_type": "code",
   "execution_count": 12,
   "metadata": {},
   "outputs": [],
   "source": [
    "model.eval()\n",
    "loss = torch.nn.CrossEntropyLoss()\n",
    "N = 0\n",
    "mean_eval_loss = 0\n",
    "total_accuracy = 0\n",
    "total_precision = 0\n",
    "total_f1_score = 0\n",
    "total_cm = 0\n",
    "\n",
    "for data in dataloader:\n",
    "    input_ids = data[\"input_ids\"]\n",
    "    attention_mask = data[\"attention_mask\"]\n",
    "    label = data[\"labels\"]\n",
    "    with torch.no_grad():\n",
    "        outputs = model(input_ids, attention_mask)\n",
    "        n = outputs.logits.shape[0]\n",
    "        custom_loss = - 1 / n * (torch.sum(torch.log(F.softmax(outputs.logits, dim = 1)) * label))\n",
    "        # Softmax is applied to the first argument\n",
    "        pytorch_loss = loss(outputs.logits, label)\n",
    "        mean_eval_loss += n * pytorch_loss\n",
    "        pred_classes = torch.argmax(outputs.logits, dim = 1)\n",
    "        label_classes = torch.argmax(label, dim = 1)\n",
    "        pred_np = pred_classes.detach().cpu().numpy()\n",
    "        label_np = label_classes.detach().cpu().numpy()\n",
    "        cm = confusion_matrix(label_np, pred_np, labels = [0, 1, 2])\n",
    "        total_cm += cm"
   ]
  },
  {
   "cell_type": "code",
   "execution_count": 13,
   "metadata": {},
   "outputs": [
    {
     "data": {
      "image/png": "[encoded data removed]",
      "text/plain": [
       "<Figure size 640x480 with 2 Axes>"
      ]
     },
     "metadata": {},
     "output_type": "display_data"
    }
   ],
   "source": [
    "disp = ConfusionMatrixDisplay(confusion_matrix=total_cm.astype(int), display_labels = [\"Hate\", \"Offensive\", \"neither\"])\n",
    "disp.plot()\n",
    "import matplotlib.pyplot as plt\n",
    "plt.savefig('test.png')"
   ]
  },
  {
   "cell_type": "code",
   "execution_count": 14,
   "metadata": {},
   "outputs": [
    {
     "data": {
      "image/png": "[encoded data removed]",
      "text/plain": [
       "<Figure size 640x480 with 2 Axes>"
      ]
     },
     "metadata": {},
     "output_type": "display_data"
    }
   ],
   "source": [
    "def evaluate_model(model, filename = \"test.png\"):\n",
    "    dataset = process_data(tokenizer, val_data_path)\n",
    "    dataloader = DataLoader(dataset, batch_size=8, collate_fn=data_collator)\n",
    "    loss = torch.nn.CrossEntropyLoss()\n",
    "    total_cm = 0\n",
    "    mean_eval_loss = 0\n",
    "\n",
    "    for data in dataloader:\n",
    "        input_ids = data[\"input_ids\"]\n",
    "        attention_mask = data[\"attention_mask\"]\n",
    "        label = data[\"labels\"]\n",
    "        with torch.no_grad():\n",
    "            outputs = model(input_ids, attention_mask)\n",
    "            n = outputs.logits.shape[0]\n",
    "            # Softmax is applied to the first argument\n",
    "            pytorch_loss = loss(outputs.logits, label)\n",
    "            mean_eval_loss += n * pytorch_loss\n",
    "            pred_classes = torch.argmax(outputs.logits, dim = 1)\n",
    "            label_classes = torch.argmax(label, dim = 1)\n",
    "            pred_np = pred_classes.detach().cpu().numpy()\n",
    "            label_np = label_classes.detach().cpu().numpy()\n",
    "            cm = confusion_matrix(label_np, pred_np, labels = [0, 1, 2])\n",
    "            total_cm += cm\n",
    "\n",
    "    total_cm = total_cm.astype(float)\n",
    "    total_cm /= total_cm.sum(axis = 1, keepdims = True)\n",
    "    disp = ConfusionMatrixDisplay(confusion_matrix=total_cm, display_labels = [\"Hate\", \"Offensive\", \"neither\"])\n",
    "    disp.plot()\n",
    "    plt.savefig(filename)\n",
    "    \n",
    "    \n",
    "\n",
    "evaluate_model(model, \"base_model_stats.png\")"
   ]
  },
  {
   "cell_type": "markdown",
   "metadata": {},
   "source": [
    "\n",
    "## Fine tuning the model"
   ]
  },
  {
   "cell_type": "code",
   "execution_count": 15,
   "metadata": {},
   "outputs": [],
   "source": [
    "data_path = r\"../data/processed_data/train.json\"\n",
    "output_path = r\"../output\"\n",
    "\n",
    "# force to use GPU.\n",
    "assert torch.cuda.is_available(), \"Use GPU!\"\n",
    "device = torch.device(\"cuda\")"
   ]
  },
  {
   "cell_type": "code",
   "execution_count": 16,
   "metadata": {},
   "outputs": [],
   "source": [
    "peft_config = LoraConfig(\n",
    "    r=16,\n",
    "    lora_alpha=32,\n",
    "    target_modules=[\"classifier\"],\n",
    "    lora_dropout=0.05,\n",
    "    bias=\"none\",\n",
    "    task_type=TaskType.SEQ_CLS,\n",
    "    modules_to_save=None\n",
    ")"
   ]
  },
  {
   "cell_type": "code",
   "execution_count": 17,
   "metadata": {},
   "outputs": [],
   "source": [
    "class LossCallback(TrainerCallback):\n",
    "    def __init__(self):\n",
    "        self.losses = []\n",
    "\n",
    "    def on_log(self, args, state, control, logs=None, **kwargs):\n",
    "        if \"loss\" in logs:\n",
    "            self.losses.append(logs[\"loss\"])"
   ]
  },
  {
   "cell_type": "code",
   "execution_count": 18,
   "metadata": {},
   "outputs": [],
   "source": [
    "def data_collator(data):\n",
    "    batch = {\n",
    "        \"input_ids\": torch.stack([torch.tensor(d[\"input_ids\"]) for d in data]).to(device),\n",
    "        \"attention_mask\": torch.stack([torch.tensor(d[\"attention_mask\"]) for d in data]).to(device),\n",
    "        # use input_ids as labels.\n",
    "        \"labels\": torch.stack([torch.tensor(d[\"labels\"]) for d in data]).to(device)\n",
    "    }\n",
    "    return batch"
   ]
  },
  {
   "cell_type": "code",
   "execution_count": 19,
   "metadata": {},
   "outputs": [],
   "source": [
    "class CustomLossTrainer(Trainer):\n",
    "    def compute_loss(self, model, inputs, num_items_in_batch, return_outputs = False):\n",
    "        \"\"\"\n",
    "        Custom loss computation method\n",
    "        \n",
    "        Args:\n",
    "            model: The model\n",
    "            inputs: Input dictionary\n",
    "            return_outputs: Whether to return model outputs along with loss\n",
    "        \n",
    "        Returns:\n",
    "            Loss, or (loss, outputs) if return_outputs is True\n",
    "        \"\"\"\n",
    "        # Forward pass to get logits\n",
    "        outputs = model(\n",
    "            input_ids=inputs['input_ids'], \n",
    "            attention_mask=inputs['attention_mask']\n",
    "        )\n",
    "        \n",
    "        # Extract logits and labels\n",
    "        logits = outputs.logits\n",
    "        labels = inputs['labels']\n",
    "\n",
    "        loss = torch.nn.CrossEntropyLoss(reduction='mean')\n",
    "        # Compute cross-entropy loss\n",
    "        loss_value = loss(\n",
    "            logits,\n",
    "            labels\n",
    "        )\n",
    "        return (loss_value, outputs) if return_outputs else loss_value"
   ]
  },
  {
   "cell_type": "code",
   "execution_count": 20,
   "metadata": {},
   "outputs": [],
   "source": [
    "test_dataset = process_data(tokenizer, data_path=val_data_path)"
   ]
  },
  {
   "cell_type": "code",
   "execution_count": null,
   "metadata": {},
   "outputs": [],
   "source": [
    "# Training arguments.\n",
    "training_args = TrainingArguments(\n",
    "    output_dir=output_path,\n",
    "    per_device_train_batch_size=4,  # storage limited.\n",
    "    gradient_accumulation_steps=8,  # accumulate gradient, batch_size=8\n",
    "    num_train_epochs=10,\n",
    "    learning_rate=3e-4,\n",
    "    fp16=True,\n",
    "    logging_steps=500,\n",
    "    save_strategy=\"no\",\n",
    "    report_to=\"none\",\n",
    "    optim=\"adamw_torch\",\n",
    "    no_cuda=False,\n",
    "    dataloader_pin_memory=False,  # use pinned memory to accelerate training.\n",
    "    remove_unused_columns=False  # prevent error.\n",
    ")"
   ]
  },
  {
   "cell_type": "code",
   "execution_count": 22,
   "metadata": {},
   "outputs": [
    {
     "name": "stdout",
     "output_type": "stream",
     "text": [
      "Trainable parameter names:\n",
      "- base_model.model.bert.encoder.layer.0.attention.self.query.lora_A.default.weight\n",
      "- base_model.model.bert.encoder.layer.0.attention.self.query.lora_B.default.weight\n",
      "- base_model.model.bert.encoder.layer.0.attention.self.key.lora_A.default.weight\n",
      "- base_model.model.bert.encoder.layer.0.attention.self.key.lora_B.default.weight\n",
      "- base_model.model.bert.encoder.layer.1.attention.self.query.lora_A.default.weight\n",
      "- base_model.model.bert.encoder.layer.1.attention.self.query.lora_B.default.weight\n",
      "- base_model.model.bert.encoder.layer.1.attention.self.key.lora_A.default.weight\n",
      "- base_model.model.bert.encoder.layer.1.attention.self.key.lora_B.default.weight\n",
      "- base_model.model.bert.encoder.layer.2.attention.self.query.lora_A.default.weight\n",
      "- base_model.model.bert.encoder.layer.2.attention.self.query.lora_B.default.weight\n",
      "- base_model.model.bert.encoder.layer.2.attention.self.key.lora_A.default.weight\n",
      "- base_model.model.bert.encoder.layer.2.attention.self.key.lora_B.default.weight\n",
      "- base_model.model.bert.encoder.layer.3.attention.self.query.lora_A.default.weight\n",
      "- base_model.model.bert.encoder.layer.3.attention.self.query.lora_B.default.weight\n",
      "- base_model.model.bert.encoder.layer.3.attention.self.key.lora_A.default.weight\n",
      "- base_model.model.bert.encoder.layer.3.attention.self.key.lora_B.default.weight\n",
      "- base_model.model.bert.encoder.layer.4.attention.self.query.lora_A.default.weight\n",
      "- base_model.model.bert.encoder.layer.4.attention.self.query.lora_B.default.weight\n",
      "- base_model.model.bert.encoder.layer.4.attention.self.key.lora_A.default.weight\n",
      "- base_model.model.bert.encoder.layer.4.attention.self.key.lora_B.default.weight\n",
      "- base_model.model.bert.encoder.layer.5.attention.self.query.lora_A.default.weight\n",
      "- base_model.model.bert.encoder.layer.5.attention.self.query.lora_B.default.weight\n",
      "- base_model.model.bert.encoder.layer.5.attention.self.key.lora_A.default.weight\n",
      "- base_model.model.bert.encoder.layer.5.attention.self.key.lora_B.default.weight\n",
      "- base_model.model.bert.encoder.layer.6.attention.self.query.lora_A.default.weight\n",
      "- base_model.model.bert.encoder.layer.6.attention.self.query.lora_B.default.weight\n",
      "- base_model.model.bert.encoder.layer.6.attention.self.key.lora_A.default.weight\n",
      "- base_model.model.bert.encoder.layer.6.attention.self.key.lora_B.default.weight\n",
      "- base_model.model.bert.encoder.layer.7.attention.self.query.lora_A.default.weight\n",
      "- base_model.model.bert.encoder.layer.7.attention.self.query.lora_B.default.weight\n",
      "- base_model.model.bert.encoder.layer.7.attention.self.key.lora_A.default.weight\n",
      "- base_model.model.bert.encoder.layer.7.attention.self.key.lora_B.default.weight\n",
      "- base_model.model.bert.encoder.layer.8.attention.self.query.lora_A.default.weight\n",
      "- base_model.model.bert.encoder.layer.8.attention.self.query.lora_B.default.weight\n",
      "- base_model.model.bert.encoder.layer.8.attention.self.key.lora_A.default.weight\n",
      "- base_model.model.bert.encoder.layer.8.attention.self.key.lora_B.default.weight\n",
      "- base_model.model.bert.encoder.layer.9.attention.self.query.lora_A.default.weight\n",
      "- base_model.model.bert.encoder.layer.9.attention.self.query.lora_B.default.weight\n",
      "- base_model.model.bert.encoder.layer.9.attention.self.key.lora_A.default.weight\n",
      "- base_model.model.bert.encoder.layer.9.attention.self.key.lora_B.default.weight\n",
      "- base_model.model.bert.encoder.layer.10.attention.self.query.lora_A.default.weight\n",
      "- base_model.model.bert.encoder.layer.10.attention.self.query.lora_B.default.weight\n",
      "- base_model.model.bert.encoder.layer.10.attention.self.key.lora_A.default.weight\n",
      "- base_model.model.bert.encoder.layer.10.attention.self.key.lora_B.default.weight\n",
      "- base_model.model.bert.encoder.layer.11.attention.self.query.lora_A.default.weight\n",
      "- base_model.model.bert.encoder.layer.11.attention.self.query.lora_B.default.weight\n",
      "- base_model.model.bert.encoder.layer.11.attention.self.key.lora_A.default.weight\n",
      "- base_model.model.bert.encoder.layer.11.attention.self.key.lora_B.default.weight\n",
      "- base_model.model.classifier.original_module.weight\n",
      "- base_model.model.classifier.original_module.bias\n",
      "- base_model.model.classifier.modules_to_save.default.weight\n",
      "- base_model.model.classifier.modules_to_save.default.bias\n"
     ]
    }
   ],
   "source": [
    "print(\"Trainable parameter names:\")\n",
    "for name, param in lora_model.named_parameters():\n",
    "    param.requires_grad = \"classifier\" in name or \"lora\" in name\n",
    "\n",
    "for name, param in lora_model.named_parameters():\n",
    "    if param.requires_grad:\n",
    "        print(f\"- {name}\")"
   ]
  },
  {
   "cell_type": "code",
   "execution_count": 23,
   "metadata": {},
   "outputs": [
    {
     "name": "stderr",
     "output_type": "stream",
     "text": [
      "No label_names provided for model class `PeftModelForSequenceClassification`. Since `PeftModel` hides base models input arguments, if label_names is not given, label_names can't be set automatically within `Trainer`. Note that empty label_names list will be used instead.\n"
     ]
    }
   ],
   "source": [
    "loss_callback = LossCallback()\n",
    "train_dataset = process_data(tokenizer, data_path=train_data_path)\n",
    "trainer = CustomLossTrainer(\n",
    "    model=lora_model,\n",
    "    args=training_args,\n",
    "    train_dataset=train_dataset,\n",
    "    data_collator=data_collator,\n",
    "    callbacks=[loss_callback],\n",
    ")"
   ]
  },
  {
   "cell_type": "code",
   "execution_count": 24,
   "metadata": {},
   "outputs": [
    {
     "data": {
      "text/html": [
       "\n",
       "    <div>\n",
       "      \n",
       "      <progress value='1259' max='1259' style='width:300px; height:20px; vertical-align: middle;'></progress>\n",
       "      [1259/1259 18:25, Epoch 0/1]\n",
       "    </div>\n",
       "    <table border=\"1\" class=\"dataframe\">\n",
       "  <thead>\n",
       " <tr style=\"text-align: left;\">\n",
       "      <th>Step</th>\n",
       "      <th>Training Loss</th>\n",
       "    </tr>\n",
       "  </thead>\n",
       "  <tbody>\n",
       "    <tr>\n",
       "      <td>20</td>\n",
       "      <td>1.103800</td>\n",
       "    </tr>\n",
       "    <tr>\n",
       "      <td>40</td>\n",
       "      <td>1.084000</td>\n",
       "    </tr>\n",
       "    <tr>\n",
       "      <td>60</td>\n",
       "      <td>1.043500</td>\n",
       "    </tr>\n",
       "    <tr>\n",
       "      <td>80</td>\n",
       "      <td>0.937600</td>\n",
       "    </tr>\n",
       "    <tr>\n",
       "      <td>100</td>\n",
       "      <td>0.913700</td>\n",
       "    </tr>\n",
       "    <tr>\n",
       "      <td>120</td>\n",
       "      <td>0.826700</td>\n",
       "    </tr>\n",
       "    <tr>\n",
       "      <td>140</td>\n",
       "      <td>0.807300</td>\n",
       "    </tr>\n",
       "    <tr>\n",
       "      <td>160</td>\n",
       "      <td>0.781900</td>\n",
       "    </tr>\n",
       "    <tr>\n",
       "      <td>180</td>\n",
       "      <td>0.733500</td>\n",
       "    </tr>\n",
       "    <tr>\n",
       "      <td>200</td>\n",
       "      <td>0.756900</td>\n",
       "    </tr>\n",
       "    <tr>\n",
       "      <td>220</td>\n",
       "      <td>0.721900</td>\n",
       "    </tr>\n",
       "    <tr>\n",
       "      <td>240</td>\n",
       "      <td>0.691500</td>\n",
       "    </tr>\n",
       "    <tr>\n",
       "      <td>260</td>\n",
       "      <td>0.690600</td>\n",
       "    </tr>\n",
       "    <tr>\n",
       "      <td>280</td>\n",
       "      <td>0.656400</td>\n",
       "    </tr>\n",
       "    <tr>\n",
       "      <td>300</td>\n",
       "      <td>0.654800</td>\n",
       "    </tr>\n",
       "    <tr>\n",
       "      <td>320</td>\n",
       "      <td>0.639300</td>\n",
       "    </tr>\n",
       "    <tr>\n",
       "      <td>340</td>\n",
       "      <td>0.654200</td>\n",
       "    </tr>\n",
       "    <tr>\n",
       "      <td>360</td>\n",
       "      <td>0.655100</td>\n",
       "    </tr>\n",
       "    <tr>\n",
       "      <td>380</td>\n",
       "      <td>0.643000</td>\n",
       "    </tr>\n",
       "    <tr>\n",
       "      <td>400</td>\n",
       "      <td>0.591500</td>\n",
       "    </tr>\n",
       "    <tr>\n",
       "      <td>420</td>\n",
       "      <td>0.631900</td>\n",
       "    </tr>\n",
       "    <tr>\n",
       "      <td>440</td>\n",
       "      <td>0.599900</td>\n",
       "    </tr>\n",
       "    <tr>\n",
       "      <td>460</td>\n",
       "      <td>0.608400</td>\n",
       "    </tr>\n",
       "    <tr>\n",
       "      <td>480</td>\n",
       "      <td>0.602900</td>\n",
       "    </tr>\n",
       "    <tr>\n",
       "      <td>500</td>\n",
       "      <td>0.599800</td>\n",
       "    </tr>\n",
       "    <tr>\n",
       "      <td>520</td>\n",
       "      <td>0.614400</td>\n",
       "    </tr>\n",
       "    <tr>\n",
       "      <td>540</td>\n",
       "      <td>0.626600</td>\n",
       "    </tr>\n",
       "    <tr>\n",
       "      <td>560</td>\n",
       "      <td>0.623600</td>\n",
       "    </tr>\n",
       "    <tr>\n",
       "      <td>580</td>\n",
       "      <td>0.619900</td>\n",
       "    </tr>\n",
       "    <tr>\n",
       "      <td>600</td>\n",
       "      <td>0.593100</td>\n",
       "    </tr>\n",
       "    <tr>\n",
       "      <td>620</td>\n",
       "      <td>0.601600</td>\n",
       "    </tr>\n",
       "    <tr>\n",
       "      <td>640</td>\n",
       "      <td>0.582300</td>\n",
       "    </tr>\n",
       "    <tr>\n",
       "      <td>660</td>\n",
       "      <td>0.575900</td>\n",
       "    </tr>\n",
       "    <tr>\n",
       "      <td>680</td>\n",
       "      <td>0.590200</td>\n",
       "    </tr>\n",
       "    <tr>\n",
       "      <td>700</td>\n",
       "      <td>0.606700</td>\n",
       "    </tr>\n",
       "    <tr>\n",
       "      <td>720</td>\n",
       "      <td>0.615600</td>\n",
       "    </tr>\n",
       "    <tr>\n",
       "      <td>740</td>\n",
       "      <td>0.570000</td>\n",
       "    </tr>\n",
       "    <tr>\n",
       "      <td>760</td>\n",
       "      <td>0.613800</td>\n",
       "    </tr>\n",
       "    <tr>\n",
       "      <td>780</td>\n",
       "      <td>0.570500</td>\n",
       "    </tr>\n",
       "    <tr>\n",
       "      <td>800</td>\n",
       "      <td>0.576700</td>\n",
       "    </tr>\n",
       "    <tr>\n",
       "      <td>820</td>\n",
       "      <td>0.586200</td>\n",
       "    </tr>\n",
       "    <tr>\n",
       "      <td>840</td>\n",
       "      <td>0.613100</td>\n",
       "    </tr>\n",
       "    <tr>\n",
       "      <td>860</td>\n",
       "      <td>0.564600</td>\n",
       "    </tr>\n",
       "    <tr>\n",
       "      <td>880</td>\n",
       "      <td>0.595500</td>\n",
       "    </tr>\n",
       "    <tr>\n",
       "      <td>900</td>\n",
       "      <td>0.557000</td>\n",
       "    </tr>\n",
       "    <tr>\n",
       "      <td>920</td>\n",
       "      <td>0.575500</td>\n",
       "    </tr>\n",
       "    <tr>\n",
       "      <td>940</td>\n",
       "      <td>0.549700</td>\n",
       "    </tr>\n",
       "    <tr>\n",
       "      <td>960</td>\n",
       "      <td>0.608000</td>\n",
       "    </tr>\n",
       "    <tr>\n",
       "      <td>980</td>\n",
       "      <td>0.560800</td>\n",
       "    </tr>\n",
       "    <tr>\n",
       "      <td>1000</td>\n",
       "      <td>0.577500</td>\n",
       "    </tr>\n",
       "    <tr>\n",
       "      <td>1020</td>\n",
       "      <td>0.594200</td>\n",
       "    </tr>\n",
       "    <tr>\n",
       "      <td>1040</td>\n",
       "      <td>0.591000</td>\n",
       "    </tr>\n",
       "    <tr>\n",
       "      <td>1060</td>\n",
       "      <td>0.555800</td>\n",
       "    </tr>\n",
       "    <tr>\n",
       "      <td>1080</td>\n",
       "      <td>0.555400</td>\n",
       "    </tr>\n",
       "    <tr>\n",
       "      <td>1100</td>\n",
       "      <td>0.559200</td>\n",
       "    </tr>\n",
       "    <tr>\n",
       "      <td>1120</td>\n",
       "      <td>0.580700</td>\n",
       "    </tr>\n",
       "    <tr>\n",
       "      <td>1140</td>\n",
       "      <td>0.579200</td>\n",
       "    </tr>\n",
       "    <tr>\n",
       "      <td>1160</td>\n",
       "      <td>0.560100</td>\n",
       "    </tr>\n",
       "    <tr>\n",
       "      <td>1180</td>\n",
       "      <td>0.543600</td>\n",
       "    </tr>\n",
       "    <tr>\n",
       "      <td>1200</td>\n",
       "      <td>0.608600</td>\n",
       "    </tr>\n",
       "    <tr>\n",
       "      <td>1220</td>\n",
       "      <td>0.543900</td>\n",
       "    </tr>\n",
       "    <tr>\n",
       "      <td>1240</td>\n",
       "      <td>0.585400</td>\n",
       "    </tr>\n",
       "  </tbody>\n",
       "</table><p>"
      ],
      "text/plain": [
       "<IPython.core.display.HTML object>"
      ]
     },
     "metadata": {},
     "output_type": "display_data"
    },
    {
     "data": {
      "text/plain": [
       "TrainOutput(global_step=1259, training_loss=0.6483591010023243, metrics={'train_runtime': 1106.2928, 'train_samples_per_second': 36.424, 'train_steps_per_second': 1.138, 'total_flos': 1.067359831031808e+16, 'train_loss': 0.6483591010023243, 'epoch': 0.9998014691284495})"
      ]
     },
     "execution_count": 24,
     "metadata": {},
     "output_type": "execute_result"
    }
   ],
   "source": [
    "trainer.train()"
   ]
  },
  {
   "cell_type": "code",
   "execution_count": 26,
   "metadata": {},
   "outputs": [
    {
     "data": {
      "image/png": "[encoded data removed]",
      "text/plain": [
       "<Figure size 640x480 with 2 Axes>"
      ]
     },
     "metadata": {},
     "output_type": "display_data"
    }
   ],
   "source": [
    "evaluate_model(model, \"fine_tuned_stats.png\")"
   ]
  }
 ],
 "metadata": {
  "kernelspec": {
   "display_name": "llm_project",
   "language": "python",
   "name": "python3"
  },
  "language_info": {
   "codemirror_mode": {
    "name": "ipython",
    "version": 3
   },
   "file_extension": ".py",
   "mimetype": "text/x-python",
   "name": "python",
   "nbconvert_exporter": "python",
   "pygments_lexer": "ipython3",
   "version": "3.10.12"
  }
 },
 "nbformat": 4,
 "nbformat_minor": 2
}
