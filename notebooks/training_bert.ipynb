{
 "cells": [
  {
   "cell_type": "markdown",
   "metadata": {},
   "source": [
    "### Fine tuning a BerT model for toxicity"
   ]
  },
  {
   "cell_type": "code",
   "execution_count": 38,
   "metadata": {},
   "outputs": [],
   "source": [
    "from transformers import BertTokenizer, BertForSequenceClassification\n",
    "import torch\n",
    "from torch.utils.data import DataLoader\n",
    "from datasets import load_dataset\n",
    "import torch.nn.functional as F\n",
    "from sklearn.metrics import accuracy_score, precision_score, f1_score\n",
    "from sklearn.metrics import confusion_matrix, ConfusionMatrixDisplay\n",
    "import matplotlib.pyplot as plt\n",
    "from peft import LoraConfig, get_peft_model, PeftType, TaskType\n",
    "from transformers import (\n",
    "    TrainingArguments,\n",
    "    Trainer,\n",
    "    TrainerCallback\n",
    ")"
   ]
  },
  {
   "cell_type": "code",
   "execution_count": 39,
   "metadata": {},
   "outputs": [],
   "source": [
    "peft_config = LoraConfig(\n",
    "    r=16,\n",
    "    lora_alpha=32,\n",
    "    target_modules=[\"query\", \"key\"],\n",
    "    lora_dropout=0.05,\n",
    "    bias=\"none\",\n",
    "    task_type=TaskType.SEQ_CLS\n",
    ")"
   ]
  },
  {
   "cell_type": "code",
   "execution_count": 40,
   "metadata": {},
   "outputs": [],
   "source": [
    "MODEL_NAME = \"bert-base-uncased\" \n",
    "train_data_path = \"../data/random_over/train.json\"\n",
    "val_data_path = \"../data/random_over/val.json\""
   ]
  },
  {
   "cell_type": "code",
   "execution_count": 41,
   "metadata": {},
   "outputs": [],
   "source": [
    "device = \"cuda\" if torch.cuda.is_available() else \"cpu\""
   ]
  },
  {
   "cell_type": "code",
   "execution_count": 42,
   "metadata": {},
   "outputs": [
    {
     "name": "stderr",
     "output_type": "stream",
     "text": [
      "Some weights of BertForSequenceClassification were not initialized from the model checkpoint at bert-base-uncased and are newly initialized: ['classifier.bias', 'classifier.weight']\n",
      "You should probably TRAIN this model on a down-stream task to be able to use it for predictions and inference.\n"
     ]
    },
    {
     "name": "stdout",
     "output_type": "stream",
     "text": [
      "Is model training?  False\n",
      "Predicted class: 2\n"
     ]
    }
   ],
   "source": [
    "# Load pre-trained model and tokenizer\n",
    "tokenizer = BertTokenizer.from_pretrained(MODEL_NAME)\n",
    "model = BertForSequenceClassification.from_pretrained(MODEL_NAME, num_labels=3)  # Adjust num_labels based on the task\n",
    "model.to(device)\n",
    "model.save_pretrained(\"../base_output\")\n",
    "print(\"Is model training? \", model.training)\n",
    "# Set model to evaluation mode\n",
    "model.eval()\n",
    "\n",
    "def predict(text):\n",
    "    inputs = tokenizer(text, return_tensors=\"pt\", truncation=True, padding=True, max_length=512).to(device)\n",
    "    \n",
    "    with torch.no_grad():\n",
    "        outputs = model(**inputs)\n",
    "    \n",
    "    logits = outputs.logits\n",
    "    predicted_class = torch.argmax(logits, dim=1).item()\n",
    "\n",
    "    return predicted_class\n",
    "\n",
    "# Example usage\n",
    "text = \"BERT is a powerful language model!\"\n",
    "prediction = predict(text)\n",
    "print(f\"Predicted class: {prediction}\")"
   ]
  },
  {
   "cell_type": "code",
   "execution_count": 43,
   "metadata": {},
   "outputs": [
    {
     "data": {
      "text/plain": [
       "BertForSequenceClassification(\n",
       "  (bert): BertModel(\n",
       "    (embeddings): BertEmbeddings(\n",
       "      (word_embeddings): Embedding(30522, 768, padding_idx=0)\n",
       "      (position_embeddings): Embedding(512, 768)\n",
       "      (token_type_embeddings): Embedding(2, 768)\n",
       "      (LayerNorm): LayerNorm((768,), eps=1e-12, elementwise_affine=True)\n",
       "      (dropout): Dropout(p=0.1, inplace=False)\n",
       "    )\n",
       "    (encoder): BertEncoder(\n",
       "      (layer): ModuleList(\n",
       "        (0-11): 12 x BertLayer(\n",
       "          (attention): BertAttention(\n",
       "            (self): BertSdpaSelfAttention(\n",
       "              (query): Linear(in_features=768, out_features=768, bias=True)\n",
       "              (key): Linear(in_features=768, out_features=768, bias=True)\n",
       "              (value): Linear(in_features=768, out_features=768, bias=True)\n",
       "              (dropout): Dropout(p=0.1, inplace=False)\n",
       "            )\n",
       "            (output): BertSelfOutput(\n",
       "              (dense): Linear(in_features=768, out_features=768, bias=True)\n",
       "              (LayerNorm): LayerNorm((768,), eps=1e-12, elementwise_affine=True)\n",
       "              (dropout): Dropout(p=0.1, inplace=False)\n",
       "            )\n",
       "          )\n",
       "          (intermediate): BertIntermediate(\n",
       "            (dense): Linear(in_features=768, out_features=3072, bias=True)\n",
       "            (intermediate_act_fn): GELUActivation()\n",
       "          )\n",
       "          (output): BertOutput(\n",
       "            (dense): Linear(in_features=3072, out_features=768, bias=True)\n",
       "            (LayerNorm): LayerNorm((768,), eps=1e-12, elementwise_affine=True)\n",
       "            (dropout): Dropout(p=0.1, inplace=False)\n",
       "          )\n",
       "        )\n",
       "      )\n",
       "    )\n",
       "    (pooler): BertPooler(\n",
       "      (dense): Linear(in_features=768, out_features=768, bias=True)\n",
       "      (activation): Tanh()\n",
       "    )\n",
       "  )\n",
       "  (dropout): Dropout(p=0.1, inplace=False)\n",
       "  (classifier): Linear(in_features=768, out_features=3, bias=True)\n",
       ")"
      ]
     },
     "execution_count": 43,
     "metadata": {},
     "output_type": "execute_result"
    }
   ],
   "source": [
    "model"
   ]
  },
  {
   "cell_type": "code",
   "execution_count": 44,
   "metadata": {},
   "outputs": [],
   "source": [
    "lora_model = get_peft_model(model, peft_config)"
   ]
  },
  {
   "cell_type": "markdown",
   "metadata": {},
   "source": [
    "### Dataset loader"
   ]
  },
  {
   "cell_type": "code",
   "execution_count": 45,
   "metadata": {},
   "outputs": [],
   "source": [
    "def process_data(tokenizer, data_path = val_data_path):\n",
    "    if tokenizer.pad_token is None:\n",
    "        tokenizer.pad_token = '[PAD]'\n",
    "    dataset = load_dataset(\"json\", data_files=data_path, split=\"train\")\n",
    "\n",
    "    def format_example(example):\n",
    "        instruction = example['Question']\n",
    "        inputs = tokenizer(\n",
    "            f\"{instruction}\\n<|endoftext|>\",\n",
    "            padding=\"max_length\",\n",
    "            truncation=True,\n",
    "            max_length=512,\n",
    "            return_tensors=\"pt\"\n",
    "        )\n",
    "        return {\n",
    "            \"input_ids\": inputs[\"input_ids\"].squeeze(0), \n",
    "            \"attention_mask\": inputs[\"attention_mask\"].squeeze(0),\n",
    "            \"labels\": example[\"Label\"]\n",
    "        }\n",
    "\n",
    "    return dataset.map(format_example, remove_columns=dataset.column_names)"
   ]
  },
  {
   "cell_type": "code",
   "execution_count": 46,
   "metadata": {},
   "outputs": [],
   "source": [
    "data_path = val_data_path\n",
    "dataset = process_data(tokenizer)"
   ]
  },
  {
   "cell_type": "code",
   "execution_count": 47,
   "metadata": {},
   "outputs": [],
   "source": [
    "def data_collator(data):\n",
    "    batch = {\n",
    "        \"input_ids\": torch.stack([torch.tensor(d[\"input_ids\"]) for d in data]).to(device),\n",
    "        \"attention_mask\": torch.stack([torch.tensor(d[\"attention_mask\"]) for d in data]).to(device),\n",
    "        # use input_ids as labels.\n",
    "        \"labels\": torch.stack([torch.tensor(d[\"labels\"]) for d in data]).to(device)\n",
    "    }\n",
    "    return batch"
   ]
  },
  {
   "cell_type": "code",
   "execution_count": 48,
   "metadata": {},
   "outputs": [],
   "source": [
    "dataloader = DataLoader(dataset, batch_size=8, collate_fn=data_collator)"
   ]
  },
  {
   "cell_type": "code",
   "execution_count": 51,
   "metadata": {},
   "outputs": [
    {
     "data": {
      "image/png": "[encoded data removed]",
      "text/plain": [
       "<Figure size 640x480 with 2 Axes>"
      ]
     },
     "metadata": {},
     "output_type": "display_data"
    }
   ],
   "source": [
    "def evaluate_model(model, filename = \"test.png\"):\n",
    "    dataset = process_data(tokenizer, val_data_path)\n",
    "    dataloader = DataLoader(dataset, batch_size=8, collate_fn=data_collator)\n",
    "    loss = torch.nn.CrossEntropyLoss()\n",
    "    total_cm = 0\n",
    "    mean_eval_loss = 0\n",
    "\n",
    "    for data in dataloader:\n",
    "        input_ids = data[\"input_ids\"]\n",
    "        attention_mask = data[\"attention_mask\"]\n",
    "        label = data[\"labels\"]\n",
    "        with torch.no_grad():\n",
    "            outputs = model(input_ids, attention_mask)\n",
    "            n = outputs.logits.shape[0]\n",
    "            # Softmax is applied to the first argument\n",
    "            pytorch_loss = loss(outputs.logits, label)\n",
    "            mean_eval_loss += n * pytorch_loss\n",
    "            pred_classes = torch.argmax(outputs.logits, dim = 1)\n",
    "            label_classes = torch.argmax(label, dim = 1)\n",
    "            pred_np = pred_classes.detach().cpu().numpy()\n",
    "            label_np = label_classes.detach().cpu().numpy()\n",
    "            cm = confusion_matrix(label_np, pred_np, labels = [0, 1, 2])\n",
    "            total_cm += cm\n",
    "\n",
    "    total_cm = total_cm.astype(float)\n",
    "    total_cm /= total_cm.sum(axis = 1, keepdims = True)\n",
    "    disp = ConfusionMatrixDisplay(confusion_matrix=total_cm, display_labels = [\"Hate\", \"Offensive\", \"neither\"])\n",
    "    disp.plot()\n",
    "    plt.savefig(filename)\n",
    "    \n",
    "    \n",
    "\n",
    "evaluate_model(model, \"base_model_stats.png\")"
   ]
  },
  {
   "cell_type": "markdown",
   "metadata": {},
   "source": [
    "\n",
    "## Fine tuning the model"
   ]
  },
  {
   "cell_type": "code",
   "execution_count": 52,
   "metadata": {},
   "outputs": [],
   "source": [
    "data_path = r\"../data/processed_data/train.json\"\n",
    "output_path = r\"../output\"\n",
    "\n",
    "# force to use GPU.\n",
    "assert torch.cuda.is_available(), \"Use GPU!\"\n",
    "device = torch.device(\"cuda\")"
   ]
  },
  {
   "cell_type": "code",
   "execution_count": 53,
   "metadata": {},
   "outputs": [],
   "source": [
    "class LossCallback(TrainerCallback):\n",
    "    def __init__(self):\n",
    "        self.losses = []\n",
    "\n",
    "    def on_log(self, args, state, control, logs=None, **kwargs):\n",
    "        if \"loss\" in logs:\n",
    "            self.losses.append(logs[\"loss\"])"
   ]
  },
  {
   "cell_type": "code",
   "execution_count": 54,
   "metadata": {},
   "outputs": [],
   "source": [
    "def data_collator(data):\n",
    "    batch = {\n",
    "        \"input_ids\": torch.stack([torch.tensor(d[\"input_ids\"]) for d in data]).to(device),\n",
    "        \"attention_mask\": torch.stack([torch.tensor(d[\"attention_mask\"]) for d in data]).to(device),\n",
    "        # use input_ids as labels.\n",
    "        \"labels\": torch.stack([torch.tensor(d[\"labels\"]) for d in data]).to(device)\n",
    "    }\n",
    "    return batch"
   ]
  },
  {
   "cell_type": "code",
   "execution_count": 55,
   "metadata": {},
   "outputs": [],
   "source": [
    "class CustomLossTrainer(Trainer):\n",
    "    def compute_loss(self, model, inputs, num_items_in_batch, return_outputs = False):\n",
    "        \"\"\"\n",
    "        Custom loss computation method\n",
    "        \n",
    "        Args:\n",
    "            model: The model\n",
    "            inputs: Input dictionary\n",
    "            return_outputs: Whether to return model outputs along with loss\n",
    "        \n",
    "        Returns:\n",
    "            Loss, or (loss, outputs) if return_outputs is True\n",
    "        \"\"\"\n",
    "        # Forward pass to get logits\n",
    "        outputs = model(\n",
    "            input_ids=inputs['input_ids'], \n",
    "            attention_mask=inputs['attention_mask']\n",
    "        )\n",
    "        \n",
    "        # Extract logits and labels\n",
    "        logits = outputs.logits\n",
    "        labels = inputs['labels']\n",
    "\n",
    "        loss = torch.nn.CrossEntropyLoss(reduction='mean')\n",
    "        # Compute cross-entropy loss\n",
    "        loss_value = loss(\n",
    "            logits,\n",
    "            labels\n",
    "        )\n",
    "        return (loss_value, outputs) if return_outputs else loss_value"
   ]
  },
  {
   "cell_type": "code",
   "execution_count": 56,
   "metadata": {},
   "outputs": [],
   "source": [
    "test_dataset = process_data(tokenizer, data_path=val_data_path)"
   ]
  },
  {
   "cell_type": "code",
   "execution_count": null,
   "metadata": {},
   "outputs": [],
   "source": [
    "# Training arguments.\n",
    "training_args = TrainingArguments(\n",
    "    output_dir=output_path,\n",
    "    per_device_train_batch_size=4,  # storage limited.\n",
    "    gradient_accumulation_steps=8,  # accumulate gradient, batch_size=8\n",
    "    num_train_epochs=10,\n",
    "    learning_rate=3e-4,\n",
    "    fp16=True,\n",
    "    logging_steps=500,\n",
    "    save_strategy=\"no\",\n",
    "    report_to=\"none\",\n",
    "    optim=\"adamw_torch\",\n",
    "    no_cuda=False,\n",
    "    dataloader_pin_memory=False,  # use pinned memory to accelerate training.\n",
    "    remove_unused_columns=False  # prevent error.\n",
    ")"
   ]
  },
  {
   "cell_type": "code",
   "execution_count": 58,
   "metadata": {},
   "outputs": [
    {
     "name": "stdout",
     "output_type": "stream",
     "text": [
      "Trainable parameter names:\n",
      "- base_model.model.bert.encoder.layer.0.attention.self.query.lora_A.default.weight\n",
      "- base_model.model.bert.encoder.layer.0.attention.self.query.lora_B.default.weight\n",
      "- base_model.model.bert.encoder.layer.0.attention.self.key.lora_A.default.weight\n",
      "- base_model.model.bert.encoder.layer.0.attention.self.key.lora_B.default.weight\n",
      "- base_model.model.bert.encoder.layer.1.attention.self.query.lora_A.default.weight\n",
      "- base_model.model.bert.encoder.layer.1.attention.self.query.lora_B.default.weight\n",
      "- base_model.model.bert.encoder.layer.1.attention.self.key.lora_A.default.weight\n",
      "- base_model.model.bert.encoder.layer.1.attention.self.key.lora_B.default.weight\n",
      "- base_model.model.bert.encoder.layer.2.attention.self.query.lora_A.default.weight\n",
      "- base_model.model.bert.encoder.layer.2.attention.self.query.lora_B.default.weight\n",
      "- base_model.model.bert.encoder.layer.2.attention.self.key.lora_A.default.weight\n",
      "- base_model.model.bert.encoder.layer.2.attention.self.key.lora_B.default.weight\n",
      "- base_model.model.bert.encoder.layer.3.attention.self.query.lora_A.default.weight\n",
      "- base_model.model.bert.encoder.layer.3.attention.self.query.lora_B.default.weight\n",
      "- base_model.model.bert.encoder.layer.3.attention.self.key.lora_A.default.weight\n",
      "- base_model.model.bert.encoder.layer.3.attention.self.key.lora_B.default.weight\n",
      "- base_model.model.bert.encoder.layer.4.attention.self.query.lora_A.default.weight\n",
      "- base_model.model.bert.encoder.layer.4.attention.self.query.lora_B.default.weight\n",
      "- base_model.model.bert.encoder.layer.4.attention.self.key.lora_A.default.weight\n",
      "- base_model.model.bert.encoder.layer.4.attention.self.key.lora_B.default.weight\n",
      "- base_model.model.bert.encoder.layer.5.attention.self.query.lora_A.default.weight\n",
      "- base_model.model.bert.encoder.layer.5.attention.self.query.lora_B.default.weight\n",
      "- base_model.model.bert.encoder.layer.5.attention.self.key.lora_A.default.weight\n",
      "- base_model.model.bert.encoder.layer.5.attention.self.key.lora_B.default.weight\n",
      "- base_model.model.bert.encoder.layer.6.attention.self.query.lora_A.default.weight\n",
      "- base_model.model.bert.encoder.layer.6.attention.self.query.lora_B.default.weight\n",
      "- base_model.model.bert.encoder.layer.6.attention.self.key.lora_A.default.weight\n",
      "- base_model.model.bert.encoder.layer.6.attention.self.key.lora_B.default.weight\n",
      "- base_model.model.bert.encoder.layer.7.attention.self.query.lora_A.default.weight\n",
      "- base_model.model.bert.encoder.layer.7.attention.self.query.lora_B.default.weight\n",
      "- base_model.model.bert.encoder.layer.7.attention.self.key.lora_A.default.weight\n",
      "- base_model.model.bert.encoder.layer.7.attention.self.key.lora_B.default.weight\n",
      "- base_model.model.bert.encoder.layer.8.attention.self.query.lora_A.default.weight\n",
      "- base_model.model.bert.encoder.layer.8.attention.self.query.lora_B.default.weight\n",
      "- base_model.model.bert.encoder.layer.8.attention.self.key.lora_A.default.weight\n",
      "- base_model.model.bert.encoder.layer.8.attention.self.key.lora_B.default.weight\n",
      "- base_model.model.bert.encoder.layer.9.attention.self.query.lora_A.default.weight\n",
      "- base_model.model.bert.encoder.layer.9.attention.self.query.lora_B.default.weight\n",
      "- base_model.model.bert.encoder.layer.9.attention.self.key.lora_A.default.weight\n",
      "- base_model.model.bert.encoder.layer.9.attention.self.key.lora_B.default.weight\n",
      "- base_model.model.bert.encoder.layer.10.attention.self.query.lora_A.default.weight\n",
      "- base_model.model.bert.encoder.layer.10.attention.self.query.lora_B.default.weight\n",
      "- base_model.model.bert.encoder.layer.10.attention.self.key.lora_A.default.weight\n",
      "- base_model.model.bert.encoder.layer.10.attention.self.key.lora_B.default.weight\n",
      "- base_model.model.bert.encoder.layer.11.attention.self.query.lora_A.default.weight\n",
      "- base_model.model.bert.encoder.layer.11.attention.self.query.lora_B.default.weight\n",
      "- base_model.model.bert.encoder.layer.11.attention.self.key.lora_A.default.weight\n",
      "- base_model.model.bert.encoder.layer.11.attention.self.key.lora_B.default.weight\n",
      "- base_model.model.classifier.original_module.weight\n",
      "- base_model.model.classifier.original_module.bias\n",
      "- base_model.model.classifier.modules_to_save.default.weight\n",
      "- base_model.model.classifier.modules_to_save.default.bias\n"
     ]
    }
   ],
   "source": [
    "print(\"Trainable parameter names:\")\n",
    "for name, param in lora_model.named_parameters():\n",
    "    param.requires_grad = \"classifier\" in name or \"lora\" in name\n",
    "\n",
    "for name, param in lora_model.named_parameters():\n",
    "    if param.requires_grad:\n",
    "        print(f\"- {name}\")"
   ]
  },
  {
   "cell_type": "code",
   "execution_count": 59,
   "metadata": {},
   "outputs": [
    {
     "name": "stderr",
     "output_type": "stream",
     "text": [
      "No label_names provided for model class `PeftModelForSequenceClassification`. Since `PeftModel` hides base models input arguments, if label_names is not given, label_names can't be set automatically within `Trainer`. Note that empty label_names list will be used instead.\n"
     ]
    }
   ],
   "source": [
    "loss_callback = LossCallback()\n",
    "train_dataset = process_data(tokenizer, data_path=train_data_path)\n",
    "trainer = CustomLossTrainer(\n",
    "    model=lora_model,\n",
    "    args=training_args,\n",
    "    train_dataset=train_dataset,\n",
    "    data_collator=data_collator,\n",
    "    callbacks=[loss_callback],\n",
    ")"
   ]
  },
  {
   "cell_type": "code",
   "execution_count": 60,
   "metadata": {},
   "outputs": [
    {
     "data": {
      "text/html": [
       "\n",
       "    <div>\n",
       "      \n",
       "      <progress value='126' max='126' style='width:300px; height:20px; vertical-align: middle;'></progress>\n",
       "      [126/126 01:51, Epoch 0/1]\n",
       "    </div>\n",
       "    <table border=\"1\" class=\"dataframe\">\n",
       "  <thead>\n",
       " <tr style=\"text-align: left;\">\n",
       "      <th>Step</th>\n",
       "      <th>Training Loss</th>\n",
       "    </tr>\n",
       "  </thead>\n",
       "  <tbody>\n",
       "  </tbody>\n",
       "</table><p>"
      ],
      "text/plain": [
       "<IPython.core.display.HTML object>"
      ]
     },
     "metadata": {},
     "output_type": "display_data"
    },
    {
     "data": {
      "text/plain": [
       "TrainOutput(global_step=126, training_loss=1.047196040077815, metrics={'train_runtime': 112.2155, 'train_samples_per_second': 35.909, 'train_steps_per_second': 1.123, 'total_flos': 1068207614853120.0, 'train_loss': 1.047196040077815, 'epoch': 0.10005955926146516})"
      ]
     },
     "execution_count": 60,
     "metadata": {},
     "output_type": "execute_result"
    }
   ],
   "source": [
    "trainer.train()"
   ]
  },
  {
   "cell_type": "code",
   "execution_count": 61,
   "metadata": {},
   "outputs": [
    {
     "data": {
      "image/png": "[encoded data removed]",
      "text/plain": [
       "<Figure size 640x480 with 2 Axes>"
      ]
     },
     "metadata": {},
     "output_type": "display_data"
    }
   ],
   "source": [
    "evaluate_model(model, \"fine_tuned_stats.png\")"
   ]
  },
  {
   "cell_type": "code",
   "execution_count": 62,
   "metadata": {},
   "outputs": [],
   "source": [
    "lora_model.save_pretrained(output_path)"
   ]
  },
  {
   "cell_type": "code",
   "execution_count": 63,
   "metadata": {},
   "outputs": [
    {
     "name": "stderr",
     "output_type": "stream",
     "text": [
      "/home/shaunak/.virtualenvs/llm_project/lib/python3.10/site-packages/peft/tuners/tuners_utils.py:167: UserWarning: Already found a `peft_config` attribute in the model. This will lead to having multiple adapters in the model. Make sure to know what you are doing!\n",
      "  warnings.warn(\n"
     ]
    }
   ],
   "source": [
    "from peft import PeftModel\n",
    "\n",
    "l_m = PeftModel.from_pretrained(model, output_path)"
   ]
  },
  {
   "cell_type": "code",
   "execution_count": 65,
   "metadata": {},
   "outputs": [
    {
     "data": {
      "text/plain": [
       "Parameter containing:\n",
       "tensor([[-0.0145, -0.0286,  0.0025,  ...,  0.0338,  0.0074, -0.0340],\n",
       "        [-0.0068, -0.0097, -0.0045,  ...,  0.0198,  0.0197,  0.0074],\n",
       "        [ 0.0071, -0.0043,  0.0066,  ..., -0.0046,  0.0061, -0.0460]],\n",
       "       device='cuda:0', requires_grad=True)"
      ]
     },
     "execution_count": 65,
     "metadata": {},
     "output_type": "execute_result"
    }
   ],
   "source": [
    "l_m.classifier.modules_to_save.default.weight"
   ]
  },
  {
   "cell_type": "code",
   "execution_count": 66,
   "metadata": {},
   "outputs": [
    {
     "data": {
      "text/plain": [
       "Parameter containing:\n",
       "tensor([[-0.0145, -0.0286,  0.0025,  ...,  0.0338,  0.0074, -0.0340],\n",
       "        [-0.0068, -0.0097, -0.0045,  ...,  0.0198,  0.0197,  0.0074],\n",
       "        [ 0.0071, -0.0043,  0.0066,  ..., -0.0046,  0.0061, -0.0460]],\n",
       "       device='cuda:0', requires_grad=True)"
      ]
     },
     "execution_count": 66,
     "metadata": {},
     "output_type": "execute_result"
    }
   ],
   "source": [
    "lora_model.classifier.weight"
   ]
  },
  {
   "cell_type": "code",
   "execution_count": 67,
   "metadata": {},
   "outputs": [
    {
     "data": {
      "text/plain": [
       "Parameter containing:\n",
       "tensor([[-0.0145, -0.0286,  0.0025,  ...,  0.0338,  0.0074, -0.0340],\n",
       "        [-0.0068, -0.0097, -0.0045,  ...,  0.0198,  0.0197,  0.0074],\n",
       "        [ 0.0071, -0.0043,  0.0066,  ..., -0.0046,  0.0061, -0.0460]],\n",
       "       device='cuda:0', requires_grad=True)"
      ]
     },
     "execution_count": 67,
     "metadata": {},
     "output_type": "execute_result"
    }
   ],
   "source": [
    "model.classifier.weight"
   ]
  },
  {
   "cell_type": "code",
   "execution_count": 73,
   "metadata": {},
   "outputs": [],
   "source": [
    "m = BertForSequenceClassification.from_pretrained(\"../base_output\")  # Adjust num_labels based on the task"
   ]
  }
 ],
 "metadata": {
  "kernelspec": {
   "display_name": "llm_project",
   "language": "python",
   "name": "python3"
  },
  "language_info": {
   "codemirror_mode": {
    "name": "ipython",
    "version": 3
   },
   "file_extension": ".py",
   "mimetype": "text/x-python",
   "name": "python",
   "nbconvert_exporter": "python",
   "pygments_lexer": "ipython3",
   "version": "3.10.12"
  }
 },
 "nbformat": 4,
 "nbformat_minor": 2
}
