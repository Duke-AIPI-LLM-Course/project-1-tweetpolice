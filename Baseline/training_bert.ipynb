{
 "cells": [
  {
   "cell_type": "markdown",
   "metadata": {},
   "source": [
    "### Fine tuning a BerT model for toxicity"
   ]
  },
  {
   "cell_type": "code",
   "execution_count": 3,
   "metadata": {},
   "outputs": [
    {
     "name": "stderr",
     "output_type": "stream",
     "text": [
      "/home/shaunak/.virtualenvs/llm_project/lib/python3.10/site-packages/tqdm/auto.py:21: TqdmWarning: IProgress not found. Please update jupyter and ipywidgets. See https://ipywidgets.readthedocs.io/en/stable/user_install.html\n",
      "  from .autonotebook import tqdm as notebook_tqdm\n"
     ]
    }
   ],
   "source": [
    "from transformers import BertTokenizer, BertForSequenceClassification\n",
    "import torch\n",
    "from torch.utils.data import DataLoader\n",
    "from datasets import load_dataset\n",
    "import torch.nn.functional as F\n",
    "from sklearn.metrics import accuracy_score, precision_score, f1_score\n",
    "from sklearn.metrics import confusion_matrix, ConfusionMatrixDisplay\n",
    "import matplotlib.pyplot as plt\n",
    "from peft import LoraConfig, get_peft_model, PeftType, TaskType\n",
    "from transformers import (\n",
    "    TrainingArguments,\n",
    "    Trainer,\n",
    "    TrainerCallback\n",
    ")"
   ]
  },
  {
   "cell_type": "code",
   "execution_count": 30,
   "metadata": {},
   "outputs": [],
   "source": [
    "peft_config = LoraConfig(\n",
    "    r=16,\n",
    "    lora_alpha=32,\n",
    "    target_modules=[\"query\", \"key\"],\n",
    "    lora_dropout=0.05,\n",
    "    bias=\"none\",\n",
    "    task_type=TaskType.SEQ_CLS\n",
    ")"
   ]
  },
  {
   "cell_type": "code",
   "execution_count": 25,
   "metadata": {},
   "outputs": [],
   "source": [
    "MODEL_NAME = \"bert-base-uncased\" \n",
    "train_data_path = \"../data/processed_data/train.json\"\n",
    "test_data_path = \"../data/processed_data/test.json\""
   ]
  },
  {
   "cell_type": "code",
   "execution_count": 26,
   "metadata": {},
   "outputs": [],
   "source": [
    "device = \"cuda\" if torch.cuda.is_available() else \"cpu\""
   ]
  },
  {
   "cell_type": "code",
   "execution_count": 31,
   "metadata": {},
   "outputs": [
    {
     "name": "stderr",
     "output_type": "stream",
     "text": [
      "Some weights of BertForSequenceClassification were not initialized from the model checkpoint at bert-base-uncased and are newly initialized: ['classifier.bias', 'classifier.weight']\n",
      "You should probably TRAIN this model on a down-stream task to be able to use it for predictions and inference.\n"
     ]
    },
    {
     "name": "stdout",
     "output_type": "stream",
     "text": [
      "Is model training?  False\n",
      "Predicted class: 0\n"
     ]
    }
   ],
   "source": [
    "\n",
    "\n",
    "# Load pre-trained model and tokenizer\n",
    "tokenizer = BertTokenizer.from_pretrained(MODEL_NAME)\n",
    "model = BertForSequenceClassification.from_pretrained(MODEL_NAME, num_labels=3)  # Adjust num_labels based on the task\n",
    "model.to(device)\n",
    "print(\"Is model training? \", model.training)\n",
    "# Set model to evaluation mode\n",
    "model.eval()\n",
    "\n",
    "def predict(text):\n",
    "    inputs = tokenizer(text, return_tensors=\"pt\", truncation=True, padding=True, max_length=512).to(device)\n",
    "    \n",
    "    with torch.no_grad():\n",
    "        outputs = model(**inputs)\n",
    "    \n",
    "    logits = outputs.logits\n",
    "    predicted_class = torch.argmax(logits, dim=1).item()\n",
    "\n",
    "    return predicted_class\n",
    "\n",
    "# Example usage\n",
    "text = \"BERT is a powerful language model!\"\n",
    "prediction = predict(text)\n",
    "print(f\"Predicted class: {prediction}\")"
   ]
  },
  {
   "cell_type": "code",
   "execution_count": 32,
   "metadata": {},
   "outputs": [
    {
     "data": {
      "text/plain": [
       "BertForSequenceClassification(\n",
       "  (bert): BertModel(\n",
       "    (embeddings): BertEmbeddings(\n",
       "      (word_embeddings): Embedding(30522, 768, padding_idx=0)\n",
       "      (position_embeddings): Embedding(512, 768)\n",
       "      (token_type_embeddings): Embedding(2, 768)\n",
       "      (LayerNorm): LayerNorm((768,), eps=1e-12, elementwise_affine=True)\n",
       "      (dropout): Dropout(p=0.1, inplace=False)\n",
       "    )\n",
       "    (encoder): BertEncoder(\n",
       "      (layer): ModuleList(\n",
       "        (0-11): 12 x BertLayer(\n",
       "          (attention): BertAttention(\n",
       "            (self): BertSdpaSelfAttention(\n",
       "              (query): Linear(in_features=768, out_features=768, bias=True)\n",
       "              (key): Linear(in_features=768, out_features=768, bias=True)\n",
       "              (value): Linear(in_features=768, out_features=768, bias=True)\n",
       "              (dropout): Dropout(p=0.1, inplace=False)\n",
       "            )\n",
       "            (output): BertSelfOutput(\n",
       "              (dense): Linear(in_features=768, out_features=768, bias=True)\n",
       "              (LayerNorm): LayerNorm((768,), eps=1e-12, elementwise_affine=True)\n",
       "              (dropout): Dropout(p=0.1, inplace=False)\n",
       "            )\n",
       "          )\n",
       "          (intermediate): BertIntermediate(\n",
       "            (dense): Linear(in_features=768, out_features=3072, bias=True)\n",
       "            (intermediate_act_fn): GELUActivation()\n",
       "          )\n",
       "          (output): BertOutput(\n",
       "            (dense): Linear(in_features=3072, out_features=768, bias=True)\n",
       "            (LayerNorm): LayerNorm((768,), eps=1e-12, elementwise_affine=True)\n",
       "            (dropout): Dropout(p=0.1, inplace=False)\n",
       "          )\n",
       "        )\n",
       "      )\n",
       "    )\n",
       "    (pooler): BertPooler(\n",
       "      (dense): Linear(in_features=768, out_features=768, bias=True)\n",
       "      (activation): Tanh()\n",
       "    )\n",
       "  )\n",
       "  (dropout): Dropout(p=0.1, inplace=False)\n",
       "  (classifier): Linear(in_features=768, out_features=3, bias=True)\n",
       ")"
      ]
     },
     "execution_count": 32,
     "metadata": {},
     "output_type": "execute_result"
    }
   ],
   "source": [
    "model"
   ]
  },
  {
   "cell_type": "code",
   "execution_count": 33,
   "metadata": {},
   "outputs": [],
   "source": [
    "lora_model = get_peft_model(model, peft_config)"
   ]
  },
  {
   "cell_type": "markdown",
   "metadata": {},
   "source": [
    "### Dataset loader"
   ]
  },
  {
   "cell_type": "code",
   "execution_count": 7,
   "metadata": {},
   "outputs": [],
   "source": [
    "def process_data(tokenizer, data_path = test_data_path):\n",
    "    if tokenizer.pad_token is None:\n",
    "        tokenizer.pad_token = '[PAD]'\n",
    "    dataset = load_dataset(\"json\", data_files=data_path, split=\"train[:1500]\")\n",
    "\n",
    "    def format_example(example):\n",
    "        instruction = example['Question']\n",
    "        inputs = tokenizer(\n",
    "            f\"{instruction}\\n<|endoftext|>\",\n",
    "            padding=\"max_length\",\n",
    "            truncation=True,\n",
    "            max_length=512,\n",
    "            return_tensors=\"pt\"\n",
    "        )\n",
    "        return {\n",
    "            \"input_ids\": inputs[\"input_ids\"].squeeze(0), \n",
    "            \"attention_mask\": inputs[\"attention_mask\"].squeeze(0),\n",
    "            \"labels\": example[\"Label\"]\n",
    "        }\n",
    "\n",
    "    return dataset.map(format_example, remove_columns=dataset.column_names)"
   ]
  },
  {
   "cell_type": "code",
   "execution_count": 8,
   "metadata": {},
   "outputs": [],
   "source": [
    "data_path = test_data_path\n",
    "dataset = process_data(tokenizer)"
   ]
  },
  {
   "cell_type": "code",
   "execution_count": 34,
   "metadata": {},
   "outputs": [],
   "source": [
    "def data_collator(data):\n",
    "    batch = {\n",
    "        \"input_ids\": torch.stack([torch.tensor(d[\"input_ids\"]) for d in data]).to(device),\n",
    "        \"attention_mask\": torch.stack([torch.tensor(d[\"attention_mask\"]) for d in data]).to(device),\n",
    "        # use input_ids as labels.\n",
    "        \"labels\": torch.stack([torch.tensor(d[\"labels\"]) for d in data]).to(device)\n",
    "    }\n",
    "    return batch"
   ]
  },
  {
   "cell_type": "code",
   "execution_count": 35,
   "metadata": {},
   "outputs": [],
   "source": [
    "dataloader = DataLoader(dataset, batch_size=8, collate_fn=data_collator)"
   ]
  },
  {
   "cell_type": "code",
   "execution_count": 36,
   "metadata": {},
   "outputs": [],
   "source": [
    "model.eval()\n",
    "loss = torch.nn.CrossEntropyLoss()\n",
    "N = 0\n",
    "mean_eval_loss = 0\n",
    "total_accuracy = 0\n",
    "total_precision = 0\n",
    "total_f1_score = 0\n",
    "total_cm = 0\n",
    "\n",
    "for data in dataloader:\n",
    "    input_ids = data[\"input_ids\"]\n",
    "    attention_mask = data[\"attention_mask\"]\n",
    "    label = data[\"labels\"]\n",
    "    with torch.no_grad():\n",
    "        outputs = model(input_ids, attention_mask)\n",
    "        n = outputs.logits.shape[0]\n",
    "        custom_loss = - 1 / n * (torch.sum(torch.log(F.softmax(outputs.logits, dim = 1)) * label))\n",
    "        # Softmax is applied to the first argument\n",
    "        pytorch_loss = loss(outputs.logits, label)\n",
    "        mean_eval_loss += n * pytorch_loss\n",
    "        pred_classes = torch.argmax(outputs.logits, dim = 1)\n",
    "        label_classes = torch.argmax(label, dim = 1)\n",
    "        pred_np = pred_classes.detach().cpu().numpy()\n",
    "        label_np = label_classes.detach().cpu().numpy()\n",
    "        cm = confusion_matrix(label_np, pred_np, labels = [0, 1, 2])\n",
    "        total_cm += cm"
   ]
  },
  {
   "cell_type": "code",
   "execution_count": 37,
   "metadata": {},
   "outputs": [
    {
     "data": {
      "image/png": "[encoded data removed]",
      "text/plain": [
       "<Figure size 640x480 with 2 Axes>"
      ]
     },
     "metadata": {},
     "output_type": "display_data"
    }
   ],
   "source": [
    "disp = ConfusionMatrixDisplay(confusion_matrix=total_cm.astype(int), display_labels = [\"Hate\", \"Offensive\", \"neither\"])\n",
    "disp.plot()\n",
    "import matplotlib.pyplot as plt\n",
    "plt.savefig('test.png')"
   ]
  },
  {
   "cell_type": "code",
   "execution_count": 38,
   "metadata": {},
   "outputs": [
    {
     "data": {
      "image/png": "[encoded data removed]",
      "text/plain": [
       "<Figure size 640x480 with 2 Axes>"
      ]
     },
     "metadata": {},
     "output_type": "display_data"
    }
   ],
   "source": [
    "def evaluate_model(model, filename = \"test.png\"):\n",
    "    dataset = process_data(tokenizer, test_data_path)\n",
    "    dataloader = DataLoader(dataset, batch_size=8, collate_fn=data_collator)\n",
    "    loss = torch.nn.CrossEntropyLoss()\n",
    "    total_cm = 0\n",
    "    mean_eval_loss = 0\n",
    "\n",
    "    for data in dataloader:\n",
    "        input_ids = data[\"input_ids\"]\n",
    "        attention_mask = data[\"attention_mask\"]\n",
    "        label = data[\"labels\"]\n",
    "        with torch.no_grad():\n",
    "            outputs = model(input_ids, attention_mask)\n",
    "            n = outputs.logits.shape[0]\n",
    "            # Softmax is applied to the first argument\n",
    "            pytorch_loss = loss(outputs.logits, label)\n",
    "            mean_eval_loss += n * pytorch_loss\n",
    "            pred_classes = torch.argmax(outputs.logits, dim = 1)\n",
    "            label_classes = torch.argmax(label, dim = 1)\n",
    "            pred_np = pred_classes.detach().cpu().numpy()\n",
    "            label_np = label_classes.detach().cpu().numpy()\n",
    "            cm = confusion_matrix(label_np, pred_np, labels = [0, 1, 2])\n",
    "            total_cm += cm\n",
    "\n",
    "    total_cm = total_cm.astype(float)\n",
    "    total_cm /= total_cm.sum(axis = 1, keepdims = True)\n",
    "    disp = ConfusionMatrixDisplay(confusion_matrix=total_cm, display_labels = [\"Hate\", \"Offensive\", \"neither\"])\n",
    "    disp.plot()\n",
    "    plt.savefig(filename)\n",
    "    \n",
    "    \n",
    "\n",
    "evaluate_model(model, \"base_model_stats.png\")"
   ]
  },
  {
   "cell_type": "markdown",
   "metadata": {},
   "source": [
    "\n",
    "## Fine tuning the model"
   ]
  },
  {
   "cell_type": "code",
   "execution_count": 14,
   "metadata": {},
   "outputs": [],
   "source": [
    "data_path = r\"../data/processed_data/train.json\"\n",
    "output_path = r\"../output\"\n",
    "\n",
    "# force to use GPU.\n",
    "assert torch.cuda.is_available(), \"Use GPU!\"\n",
    "device = torch.device(\"cuda\")"
   ]
  },
  {
   "cell_type": "code",
   "execution_count": 15,
   "metadata": {},
   "outputs": [],
   "source": [
    "peft_config = LoraConfig(\n",
    "    r=16,\n",
    "    lora_alpha=32,\n",
    "    target_modules=[\"classifier\"],\n",
    "    lora_dropout=0.05,\n",
    "    bias=\"none\",\n",
    "    task_type=TaskType.SEQ_CLS,\n",
    "    modules_to_save=None\n",
    ")"
   ]
  },
  {
   "cell_type": "code",
   "execution_count": 16,
   "metadata": {},
   "outputs": [],
   "source": [
    "class LossCallback(TrainerCallback):\n",
    "    def __init__(self):\n",
    "        self.losses = []\n",
    "\n",
    "    def on_log(self, args, state, control, logs=None, **kwargs):\n",
    "        if \"loss\" in logs:\n",
    "            self.losses.append(logs[\"loss\"])"
   ]
  },
  {
   "cell_type": "code",
   "execution_count": 17,
   "metadata": {},
   "outputs": [],
   "source": [
    "def data_collator(data):\n",
    "    batch = {\n",
    "        \"input_ids\": torch.stack([torch.tensor(d[\"input_ids\"]) for d in data]).to(device),\n",
    "        \"attention_mask\": torch.stack([torch.tensor(d[\"attention_mask\"]) for d in data]).to(device),\n",
    "        # use input_ids as labels.\n",
    "        \"labels\": torch.stack([torch.tensor(d[\"labels\"]) for d in data]).to(device)\n",
    "    }\n",
    "    return batch"
   ]
  },
  {
   "cell_type": "code",
   "execution_count": 18,
   "metadata": {},
   "outputs": [],
   "source": [
    "import torch.nn.functional as F\n",
    "class CustomLossTrainer(Trainer):\n",
    "    def compute_loss(self, model, inputs, num_items_in_batch, return_outputs = False):\n",
    "        \"\"\"\n",
    "        Custom loss computation method\n",
    "        \n",
    "        Args:\n",
    "            model: The model\n",
    "            inputs: Input dictionary\n",
    "            return_outputs: Whether to return model outputs along with loss\n",
    "        \n",
    "        Returns:\n",
    "            Loss, or (loss, outputs) if return_outputs is True\n",
    "        \"\"\"\n",
    "        # Forward pass to get logits\n",
    "        outputs = model(\n",
    "            input_ids=inputs['input_ids'], \n",
    "            attention_mask=inputs['attention_mask']\n",
    "        )\n",
    "        \n",
    "        # Extract logits and labels\n",
    "        logits = outputs.logits\n",
    "        labels = inputs['labels']\n",
    "\n",
    "        loss = torch.nn.CrossEntropyLoss(reduction='sum')\n",
    "        # Compute cross-entropy loss\n",
    "        loss_value = loss(\n",
    "            logits,\n",
    "            labels\n",
    "        )\n",
    "        return (loss_value, outputs) if return_outputs else loss_value"
   ]
  },
  {
   "cell_type": "code",
   "execution_count": 19,
   "metadata": {},
   "outputs": [],
   "source": [
    "test_dataset = process_data(tokenizer, data_path=test_data_path)"
   ]
  },
  {
   "cell_type": "code",
   "execution_count": null,
   "metadata": {},
   "outputs": [],
   "source": [
    "# Training arguments.\n",
    "training_args = TrainingArguments(\n",
    "    output_dir=output_path,\n",
    "    per_device_train_batch_size=4,  # storage limited.\n",
    "    gradient_accumulation_steps=8,  # accumulate gradient, batch_size=8\n",
    "    num_train_epochs=400,\n",
    "    learning_rate=3e-4,\n",
    "    fp16=True,\n",
    "    logging_steps=1,\n",
    "    save_strategy=\"no\",\n",
    "    report_to=\"none\",\n",
    "    optim=\"adamw_torch\",\n",
    "    no_cuda=False,\n",
    "    dataloader_pin_memory=False,  # use pinned memory to accelerate training.\n",
    "    remove_unused_columns=False  # prevent error.\n",
    ")"
   ]
  },
  {
   "cell_type": "code",
   "execution_count": 45,
   "metadata": {},
   "outputs": [
    {
     "name": "stdout",
     "output_type": "stream",
     "text": [
      "Trainable parameter names:\n",
      "- base_model.model.bert.encoder.layer.0.attention.self.query.lora_A.default.weight\n",
      "- base_model.model.bert.encoder.layer.0.attention.self.query.lora_B.default.weight\n",
      "- base_model.model.bert.encoder.layer.0.attention.self.key.lora_A.default.weight\n",
      "- base_model.model.bert.encoder.layer.0.attention.self.key.lora_B.default.weight\n",
      "- base_model.model.bert.encoder.layer.1.attention.self.query.lora_A.default.weight\n",
      "- base_model.model.bert.encoder.layer.1.attention.self.query.lora_B.default.weight\n",
      "- base_model.model.bert.encoder.layer.1.attention.self.key.lora_A.default.weight\n",
      "- base_model.model.bert.encoder.layer.1.attention.self.key.lora_B.default.weight\n",
      "- base_model.model.bert.encoder.layer.2.attention.self.query.lora_A.default.weight\n",
      "- base_model.model.bert.encoder.layer.2.attention.self.query.lora_B.default.weight\n",
      "- base_model.model.bert.encoder.layer.2.attention.self.key.lora_A.default.weight\n",
      "- base_model.model.bert.encoder.layer.2.attention.self.key.lora_B.default.weight\n",
      "- base_model.model.bert.encoder.layer.3.attention.self.query.lora_A.default.weight\n",
      "- base_model.model.bert.encoder.layer.3.attention.self.query.lora_B.default.weight\n",
      "- base_model.model.bert.encoder.layer.3.attention.self.key.lora_A.default.weight\n",
      "- base_model.model.bert.encoder.layer.3.attention.self.key.lora_B.default.weight\n",
      "- base_model.model.bert.encoder.layer.4.attention.self.query.lora_A.default.weight\n",
      "- base_model.model.bert.encoder.layer.4.attention.self.query.lora_B.default.weight\n",
      "- base_model.model.bert.encoder.layer.4.attention.self.key.lora_A.default.weight\n",
      "- base_model.model.bert.encoder.layer.4.attention.self.key.lora_B.default.weight\n",
      "- base_model.model.bert.encoder.layer.5.attention.self.query.lora_A.default.weight\n",
      "- base_model.model.bert.encoder.layer.5.attention.self.query.lora_B.default.weight\n",
      "- base_model.model.bert.encoder.layer.5.attention.self.key.lora_A.default.weight\n",
      "- base_model.model.bert.encoder.layer.5.attention.self.key.lora_B.default.weight\n",
      "- base_model.model.bert.encoder.layer.6.attention.self.query.lora_A.default.weight\n",
      "- base_model.model.bert.encoder.layer.6.attention.self.query.lora_B.default.weight\n",
      "- base_model.model.bert.encoder.layer.6.attention.self.key.lora_A.default.weight\n",
      "- base_model.model.bert.encoder.layer.6.attention.self.key.lora_B.default.weight\n",
      "- base_model.model.bert.encoder.layer.7.attention.self.query.lora_A.default.weight\n",
      "- base_model.model.bert.encoder.layer.7.attention.self.query.lora_B.default.weight\n",
      "- base_model.model.bert.encoder.layer.7.attention.self.key.lora_A.default.weight\n",
      "- base_model.model.bert.encoder.layer.7.attention.self.key.lora_B.default.weight\n",
      "- base_model.model.bert.encoder.layer.8.attention.self.query.lora_A.default.weight\n",
      "- base_model.model.bert.encoder.layer.8.attention.self.query.lora_B.default.weight\n",
      "- base_model.model.bert.encoder.layer.8.attention.self.key.lora_A.default.weight\n",
      "- base_model.model.bert.encoder.layer.8.attention.self.key.lora_B.default.weight\n",
      "- base_model.model.bert.encoder.layer.9.attention.self.query.lora_A.default.weight\n",
      "- base_model.model.bert.encoder.layer.9.attention.self.query.lora_B.default.weight\n",
      "- base_model.model.bert.encoder.layer.9.attention.self.key.lora_A.default.weight\n",
      "- base_model.model.bert.encoder.layer.9.attention.self.key.lora_B.default.weight\n",
      "- base_model.model.bert.encoder.layer.10.attention.self.query.lora_A.default.weight\n",
      "- base_model.model.bert.encoder.layer.10.attention.self.query.lora_B.default.weight\n",
      "- base_model.model.bert.encoder.layer.10.attention.self.key.lora_A.default.weight\n",
      "- base_model.model.bert.encoder.layer.10.attention.self.key.lora_B.default.weight\n",
      "- base_model.model.bert.encoder.layer.11.attention.self.query.lora_A.default.weight\n",
      "- base_model.model.bert.encoder.layer.11.attention.self.query.lora_B.default.weight\n",
      "- base_model.model.bert.encoder.layer.11.attention.self.key.lora_A.default.weight\n",
      "- base_model.model.bert.encoder.layer.11.attention.self.key.lora_B.default.weight\n",
      "- base_model.model.classifier.original_module.weight\n",
      "- base_model.model.classifier.original_module.bias\n",
      "- base_model.model.classifier.modules_to_save.default.weight\n",
      "- base_model.model.classifier.modules_to_save.default.bias\n"
     ]
    }
   ],
   "source": [
    "print(\"Trainable parameter names:\")\n",
    "for name, param in lora_model.named_parameters():\n",
    "    param.requires_grad = \"classifier\" in name or \"lora\" in name\n",
    "\n",
    "for name, param in lora_model.named_parameters():\n",
    "    if param.requires_grad:\n",
    "        print(f\"- {name}\")"
   ]
  },
  {
   "cell_type": "code",
   "execution_count": 46,
   "metadata": {},
   "outputs": [
    {
     "name": "stderr",
     "output_type": "stream",
     "text": [
      "No label_names provided for model class `PeftModelForSequenceClassification`. Since `PeftModel` hides base models input arguments, if label_names is not given, label_names can't be set automatically within `Trainer`. Note that empty label_names list will be used instead.\n"
     ]
    }
   ],
   "source": [
    "loss_callback = LossCallback()\n",
    "train_dataset = process_data(tokenizer, data_path=train_data_path)\n",
    "trainer = CustomLossTrainer(\n",
    "    model=lora_model,\n",
    "    args=training_args,\n",
    "    train_dataset=train_dataset,\n",
    "    data_collator=data_collator,\n",
    "    callbacks=[loss_callback],\n",
    ")"
   ]
  },
  {
   "cell_type": "code",
   "execution_count": 47,
   "metadata": {},
   "outputs": [
    {
     "data": {
      "text/html": [
       "\n",
       "    <div>\n",
       "      \n",
       "      <progress value='46' max='46' style='width:300px; height:20px; vertical-align: middle;'></progress>\n",
       "      [46/46 00:40, Epoch 0/1]\n",
       "    </div>\n",
       "    <table border=\"1\" class=\"dataframe\">\n",
       "  <thead>\n",
       " <tr style=\"text-align: left;\">\n",
       "      <th>Step</th>\n",
       "      <th>Training Loss</th>\n",
       "    </tr>\n",
       "  </thead>\n",
       "  <tbody>\n",
       "    <tr>\n",
       "      <td>1</td>\n",
       "      <td>3.658700</td>\n",
       "    </tr>\n",
       "    <tr>\n",
       "      <td>2</td>\n",
       "      <td>2.734100</td>\n",
       "    </tr>\n",
       "    <tr>\n",
       "      <td>3</td>\n",
       "      <td>2.719000</td>\n",
       "    </tr>\n",
       "    <tr>\n",
       "      <td>4</td>\n",
       "      <td>2.682000</td>\n",
       "    </tr>\n",
       "    <tr>\n",
       "      <td>5</td>\n",
       "      <td>2.860600</td>\n",
       "    </tr>\n",
       "    <tr>\n",
       "      <td>6</td>\n",
       "      <td>2.920100</td>\n",
       "    </tr>\n",
       "    <tr>\n",
       "      <td>7</td>\n",
       "      <td>2.061400</td>\n",
       "    </tr>\n",
       "    <tr>\n",
       "      <td>8</td>\n",
       "      <td>2.648600</td>\n",
       "    </tr>\n",
       "    <tr>\n",
       "      <td>9</td>\n",
       "      <td>3.820700</td>\n",
       "    </tr>\n",
       "    <tr>\n",
       "      <td>10</td>\n",
       "      <td>3.378200</td>\n",
       "    </tr>\n",
       "    <tr>\n",
       "      <td>11</td>\n",
       "      <td>3.228100</td>\n",
       "    </tr>\n",
       "    <tr>\n",
       "      <td>12</td>\n",
       "      <td>2.892300</td>\n",
       "    </tr>\n",
       "    <tr>\n",
       "      <td>13</td>\n",
       "      <td>3.135100</td>\n",
       "    </tr>\n",
       "    <tr>\n",
       "      <td>14</td>\n",
       "      <td>2.609000</td>\n",
       "    </tr>\n",
       "    <tr>\n",
       "      <td>15</td>\n",
       "      <td>3.642800</td>\n",
       "    </tr>\n",
       "    <tr>\n",
       "      <td>16</td>\n",
       "      <td>2.755300</td>\n",
       "    </tr>\n",
       "    <tr>\n",
       "      <td>17</td>\n",
       "      <td>2.920600</td>\n",
       "    </tr>\n",
       "    <tr>\n",
       "      <td>18</td>\n",
       "      <td>2.841800</td>\n",
       "    </tr>\n",
       "    <tr>\n",
       "      <td>19</td>\n",
       "      <td>2.489200</td>\n",
       "    </tr>\n",
       "    <tr>\n",
       "      <td>20</td>\n",
       "      <td>2.518500</td>\n",
       "    </tr>\n",
       "    <tr>\n",
       "      <td>21</td>\n",
       "      <td>2.812500</td>\n",
       "    </tr>\n",
       "    <tr>\n",
       "      <td>22</td>\n",
       "      <td>2.972900</td>\n",
       "    </tr>\n",
       "    <tr>\n",
       "      <td>23</td>\n",
       "      <td>2.775000</td>\n",
       "    </tr>\n",
       "    <tr>\n",
       "      <td>24</td>\n",
       "      <td>2.292100</td>\n",
       "    </tr>\n",
       "    <tr>\n",
       "      <td>25</td>\n",
       "      <td>3.238900</td>\n",
       "    </tr>\n",
       "    <tr>\n",
       "      <td>26</td>\n",
       "      <td>2.381700</td>\n",
       "    </tr>\n",
       "    <tr>\n",
       "      <td>27</td>\n",
       "      <td>2.789600</td>\n",
       "    </tr>\n",
       "    <tr>\n",
       "      <td>28</td>\n",
       "      <td>1.849800</td>\n",
       "    </tr>\n",
       "    <tr>\n",
       "      <td>29</td>\n",
       "      <td>3.043100</td>\n",
       "    </tr>\n",
       "    <tr>\n",
       "      <td>30</td>\n",
       "      <td>2.739700</td>\n",
       "    </tr>\n",
       "    <tr>\n",
       "      <td>31</td>\n",
       "      <td>2.371700</td>\n",
       "    </tr>\n",
       "    <tr>\n",
       "      <td>32</td>\n",
       "      <td>3.184200</td>\n",
       "    </tr>\n",
       "    <tr>\n",
       "      <td>33</td>\n",
       "      <td>3.368700</td>\n",
       "    </tr>\n",
       "    <tr>\n",
       "      <td>34</td>\n",
       "      <td>3.302600</td>\n",
       "    </tr>\n",
       "    <tr>\n",
       "      <td>35</td>\n",
       "      <td>3.293000</td>\n",
       "    </tr>\n",
       "    <tr>\n",
       "      <td>36</td>\n",
       "      <td>2.916000</td>\n",
       "    </tr>\n",
       "    <tr>\n",
       "      <td>37</td>\n",
       "      <td>2.611100</td>\n",
       "    </tr>\n",
       "    <tr>\n",
       "      <td>38</td>\n",
       "      <td>3.818100</td>\n",
       "    </tr>\n",
       "    <tr>\n",
       "      <td>39</td>\n",
       "      <td>2.279100</td>\n",
       "    </tr>\n",
       "    <tr>\n",
       "      <td>40</td>\n",
       "      <td>2.336900</td>\n",
       "    </tr>\n",
       "    <tr>\n",
       "      <td>41</td>\n",
       "      <td>3.220700</td>\n",
       "    </tr>\n",
       "    <tr>\n",
       "      <td>42</td>\n",
       "      <td>2.958900</td>\n",
       "    </tr>\n",
       "    <tr>\n",
       "      <td>43</td>\n",
       "      <td>2.977000</td>\n",
       "    </tr>\n",
       "    <tr>\n",
       "      <td>44</td>\n",
       "      <td>4.017600</td>\n",
       "    </tr>\n",
       "    <tr>\n",
       "      <td>45</td>\n",
       "      <td>2.764300</td>\n",
       "    </tr>\n",
       "    <tr>\n",
       "      <td>46</td>\n",
       "      <td>2.824600</td>\n",
       "    </tr>\n",
       "  </tbody>\n",
       "</table><p>"
      ],
      "text/plain": [
       "<IPython.core.display.HTML object>"
      ]
     },
     "metadata": {},
     "output_type": "display_data"
    },
    {
     "data": {
      "text/plain": [
       "TrainOutput(global_step=46, training_loss=2.905565127082493, metrics={'train_runtime': 41.3187, 'train_samples_per_second': 36.303, 'train_steps_per_second': 1.113, 'total_flos': 389980557803520.0, 'train_loss': 2.905565127082493, 'epoch': 0.9813333333333333})"
      ]
     },
     "execution_count": 47,
     "metadata": {},
     "output_type": "execute_result"
    }
   ],
   "source": [
    "trainer.train()"
   ]
  },
  {
   "cell_type": "code",
   "execution_count": 48,
   "metadata": {},
   "outputs": [
    {
     "data": {
      "image/png": "[encoded data removed]",
      "text/plain": [
       "<Figure size 640x480 with 2 Axes>"
      ]
     },
     "metadata": {},
     "output_type": "display_data"
    }
   ],
   "source": [
    "evaluate_model(model, \"fine_tuned_stats.png\")"
   ]
  }
 ],
 "metadata": {
  "kernelspec": {
   "display_name": "llm_project",
   "language": "python",
   "name": "python3"
  },
  "language_info": {
   "codemirror_mode": {
    "name": "ipython",
    "version": 3
   },
   "file_extension": ".py",
   "mimetype": "text/x-python",
   "name": "python",
   "nbconvert_exporter": "python",
   "pygments_lexer": "ipython3",
   "version": "3.10.12"
  }
 },
 "nbformat": 4,
 "nbformat_minor": 2
}
