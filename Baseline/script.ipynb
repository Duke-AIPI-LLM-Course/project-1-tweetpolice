{
 "cells": [
  {
   "cell_type": "code",
   "execution_count": 1,
   "metadata": {},
   "outputs": [
    {
     "name": "stderr",
     "output_type": "stream",
     "text": [
      "/home/shaunak/.virtualenvs/llm_project/lib/python3.10/site-packages/tqdm/auto.py:21: TqdmWarning: IProgress not found. Please update jupyter and ipywidgets. See https://ipywidgets.readthedocs.io/en/stable/user_install.html\n",
      "  from .autonotebook import tqdm as notebook_tqdm\n"
     ]
    }
   ],
   "source": [
    "import torch\n",
    "import matplotlib.pyplot as plt\n",
    "from transformers import (\n",
    "    AutoTokenizer,\n",
    "    AutoModelForCausalLM,\n",
    "    TrainingArguments,\n",
    "    Trainer,\n",
    "    TrainerCallback\n",
    ")\n",
    "from peft import LoraConfig, get_peft_model\n",
    "from datasets import load_dataset\n",
    "import os"
   ]
  },
  {
   "cell_type": "code",
   "execution_count": 2,
   "metadata": {},
   "outputs": [],
   "source": [
    "# config dataset path.\n",
    "model_path = \"distilbert/distilgpt2\"\n",
    "data_path = r\"../data/processed_data/train.json\"\n",
    "output_path = r\"../output\"\n",
    "\n",
    "# force to use GPU.\n",
    "assert torch.cuda.is_available(), \"Use GPU!\"\n",
    "device = torch.device(\"cuda\")"
   ]
  },
  {
   "cell_type": "code",
   "execution_count": 3,
   "metadata": {},
   "outputs": [],
   "source": [
    "# Implement a custom callback to record the change of loss value\n",
    "# in real time during model training.\n",
    "class LossCallback(TrainerCallback):\n",
    "    def __init__(self):\n",
    "        self.losses = []\n",
    "\n",
    "    def on_log(self, args, state, control, logs=None, **kwargs):\n",
    "        if \"loss\" in logs:\n",
    "            self.losses.append(logs[\"loss\"])"
   ]
  },
  {
   "cell_type": "code",
   "execution_count": 4,
   "metadata": {},
   "outputs": [],
   "source": [
    "def process_data(tokenizer):\n",
    "    dataset = load_dataset(\"json\", data_files=data_path, split=\"train[:1500]\")\n",
    "    print(dataset)\n",
    "\n",
    "    def format_example(example):\n",
    "        instruction = f\"Question: {example['Question']}\\nAnalysis: {example['Complex_CoT']}\"\n",
    "        inputs = tokenizer(\n",
    "            f\"{instruction}\\n### Answer: \\n{example['Response']}<|endoftext|>\",\n",
    "            padding=\"max_length\",\n",
    "            truncation=True,\n",
    "            \n",
    "            max_length=512,\n",
    "            return_tensors=\"pt\"\n",
    "        )\n",
    "        return {\"input_ids\": inputs[\"input_ids\"].squeeze(0), \"attention_mask\": inputs[\"attention_mask\"].squeeze(0)}\n",
    "\n",
    "    return dataset.map(format_example, remove_columns=dataset.column_names)"
   ]
  },
  {
   "cell_type": "code",
   "execution_count": 5,
   "metadata": {},
   "outputs": [],
   "source": [
    "# LoRA configuration.\n",
    "# r means the rank of the low-rank decomposition.\n",
    "# lora_alpha is the scaling factor.\n",
    "# target_modules are the modules to be decomposed.\n",
    "# lora_dropout is the dropout rate.\n",
    "# task_type is the task type -- Causal Language Model.\n",
    "peft_config = LoraConfig(\n",
    "    r=16,\n",
    "    lora_alpha=32,\n",
    "    target_modules=[\"c_attn\", \"c_proj\"],\n",
    "    lora_dropout=0.05,\n",
    "    bias=\"none\",\n",
    "    task_type=\"CAUSAL_LM\"\n",
    ")"
   ]
  },
  {
   "cell_type": "code",
   "execution_count": 6,
   "metadata": {},
   "outputs": [],
   "source": [
    "# Training arguments.\n",
    "training_args = TrainingArguments(\n",
    "    output_dir=output_path,\n",
    "    per_device_train_batch_size=2,  # storage limited.\n",
    "    gradient_accumulation_steps=4,  # accumulate gradient, batch_size=8\n",
    "    num_train_epochs=3,\n",
    "    learning_rate=3e-4,\n",
    "    fp16=True,  # open fp16, accelerate training.\n",
    "    logging_steps=20,\n",
    "    save_strategy=\"no\",\n",
    "    report_to=\"none\",\n",
    "    optim=\"adamw_torch\",\n",
    "    no_cuda=False,\n",
    "    dataloader_pin_memory=False,  # use pinned memory to accelerate training.\n",
    "    remove_unused_columns=False  # prevent error.\n",
    ")"
   ]
  },
  {
   "cell_type": "code",
   "execution_count": 9,
   "metadata": {},
   "outputs": [],
   "source": [
    "model = AutoModelForCausalLM.from_pretrained(\n",
    "        model_path,\n",
    "        torch_dtype=torch.float16,\n",
    "        device_map=\"auto\"\n",
    "    )"
   ]
  },
  {
   "cell_type": "code",
   "execution_count": 18,
   "metadata": {},
   "outputs": [],
   "source": [
    "params_before = {}\n",
    "for name, param in model.named_parameters():\n",
    "    params_before[name] = param.detach().cpu().clone()"
   ]
  },
  {
   "cell_type": "code",
   "execution_count": 25,
   "metadata": {},
   "outputs": [
    {
     "name": "stdout",
     "output_type": "stream",
     "text": [
      "trainable params: 811,008 || all params: 82,723,584 || trainable%: 0.9804\n"
     ]
    },
    {
     "name": "stderr",
     "output_type": "stream",
     "text": [
      "No label_names provided for model class `PeftModelForCausalLM`. Since `PeftModel` hides base models input arguments, if label_names is not given, label_names can't be set automatically within `Trainer`. Note that empty label_names list will be used instead.\n"
     ]
    },
    {
     "name": "stdout",
     "output_type": "stream",
     "text": [
      "Dataset({\n",
      "    features: ['Question', 'Complex_CoT', 'Response'],\n",
      "    num_rows: 1500\n",
      "})\n",
      "Start training...\n"
     ]
    },
    {
     "data": {
      "text/html": [
       "\n",
       "    <div>\n",
       "      \n",
       "      <progress value='561' max='561' style='width:300px; height:20px; vertical-align: middle;'></progress>\n",
       "      [561/561 02:05, Epoch 2/3]\n",
       "    </div>\n",
       "    <table border=\"1\" class=\"dataframe\">\n",
       "  <thead>\n",
       " <tr style=\"text-align: left;\">\n",
       "      <th>Step</th>\n",
       "      <th>Training Loss</th>\n",
       "    </tr>\n",
       "  </thead>\n",
       "  <tbody>\n",
       "    <tr>\n",
       "      <td>20</td>\n",
       "      <td>5.042000</td>\n",
       "    </tr>\n",
       "    <tr>\n",
       "      <td>40</td>\n",
       "      <td>0.874300</td>\n",
       "    </tr>\n",
       "    <tr>\n",
       "      <td>60</td>\n",
       "      <td>0.686700</td>\n",
       "    </tr>\n",
       "    <tr>\n",
       "      <td>80</td>\n",
       "      <td>0.537000</td>\n",
       "    </tr>\n",
       "    <tr>\n",
       "      <td>100</td>\n",
       "      <td>0.411100</td>\n",
       "    </tr>\n",
       "    <tr>\n",
       "      <td>120</td>\n",
       "      <td>0.339900</td>\n",
       "    </tr>\n",
       "    <tr>\n",
       "      <td>140</td>\n",
       "      <td>0.334100</td>\n",
       "    </tr>\n",
       "    <tr>\n",
       "      <td>160</td>\n",
       "      <td>0.347800</td>\n",
       "    </tr>\n",
       "    <tr>\n",
       "      <td>180</td>\n",
       "      <td>0.300400</td>\n",
       "    </tr>\n",
       "    <tr>\n",
       "      <td>200</td>\n",
       "      <td>0.306000</td>\n",
       "    </tr>\n",
       "    <tr>\n",
       "      <td>220</td>\n",
       "      <td>0.296300</td>\n",
       "    </tr>\n",
       "    <tr>\n",
       "      <td>240</td>\n",
       "      <td>0.282200</td>\n",
       "    </tr>\n",
       "    <tr>\n",
       "      <td>260</td>\n",
       "      <td>0.314100</td>\n",
       "    </tr>\n",
       "    <tr>\n",
       "      <td>280</td>\n",
       "      <td>0.278000</td>\n",
       "    </tr>\n",
       "    <tr>\n",
       "      <td>300</td>\n",
       "      <td>0.301300</td>\n",
       "    </tr>\n",
       "    <tr>\n",
       "      <td>320</td>\n",
       "      <td>0.288600</td>\n",
       "    </tr>\n",
       "    <tr>\n",
       "      <td>340</td>\n",
       "      <td>0.283500</td>\n",
       "    </tr>\n",
       "    <tr>\n",
       "      <td>360</td>\n",
       "      <td>0.273700</td>\n",
       "    </tr>\n",
       "    <tr>\n",
       "      <td>380</td>\n",
       "      <td>0.288700</td>\n",
       "    </tr>\n",
       "    <tr>\n",
       "      <td>400</td>\n",
       "      <td>0.283900</td>\n",
       "    </tr>\n",
       "    <tr>\n",
       "      <td>420</td>\n",
       "      <td>0.291200</td>\n",
       "    </tr>\n",
       "    <tr>\n",
       "      <td>440</td>\n",
       "      <td>0.266100</td>\n",
       "    </tr>\n",
       "    <tr>\n",
       "      <td>460</td>\n",
       "      <td>0.274100</td>\n",
       "    </tr>\n",
       "    <tr>\n",
       "      <td>480</td>\n",
       "      <td>0.282500</td>\n",
       "    </tr>\n",
       "    <tr>\n",
       "      <td>500</td>\n",
       "      <td>0.282900</td>\n",
       "    </tr>\n",
       "    <tr>\n",
       "      <td>520</td>\n",
       "      <td>0.279600</td>\n",
       "    </tr>\n",
       "    <tr>\n",
       "      <td>540</td>\n",
       "      <td>0.279500</td>\n",
       "    </tr>\n",
       "    <tr>\n",
       "      <td>560</td>\n",
       "      <td>0.281700</td>\n",
       "    </tr>\n",
       "  </tbody>\n",
       "</table><p>"
      ],
      "text/plain": [
       "<IPython.core.display.HTML object>"
      ]
     },
     "metadata": {},
     "output_type": "display_data"
    },
    {
     "name": "stdout",
     "output_type": "stream",
     "text": [
      "Model saved to ../output\n",
      "Loss curve saved to loss_curve.png\n"
     ]
    },
    {
     "data": {
      "image/png": "[encoded data removed]",
      "text/plain": [
       "<Figure size 1000x600 with 1 Axes>"
      ]
     },
     "metadata": {},
     "output_type": "display_data"
    }
   ],
   "source": [
    "def main():\n",
    "    # create output path.\n",
    "    os.makedirs(output_path, exist_ok=True)\n",
    "\n",
    "    # load tokenizer.\n",
    "    tokenizer = AutoTokenizer.from_pretrained(model_path)\n",
    "    tokenizer.pad_token = tokenizer.eos_token\n",
    "\n",
    "    # load model.\n",
    "    model = AutoModelForCausalLM.from_pretrained(\n",
    "        model_path,\n",
    "        torch_dtype=torch.float16,\n",
    "        device_map=\"auto\"\n",
    "    )\n",
    "    model = get_peft_model(model, peft_config)\n",
    "    model.print_trainable_parameters()\n",
    "\n",
    "    # preprocess data.\n",
    "    dataset = process_data(tokenizer)\n",
    "\n",
    "    # loss callback.\n",
    "    loss_callback = LossCallback()\n",
    "\n",
    "    # data collator.\n",
    "    def data_collator(data):\n",
    "        batch = {\n",
    "            \"input_ids\": torch.stack([torch.tensor(d[\"input_ids\"]) for d in data]).to(device),\n",
    "            \"attention_mask\": torch.stack([torch.tensor(d[\"attention_mask\"]) for d in data]).to(device),\n",
    "            # use input_ids as labels.\n",
    "            \"labels\": torch.stack([torch.tensor(d[\"input_ids\"]) for d in data]).to(device)\n",
    "        }\n",
    "        return batch\n",
    "\n",
    "    # create trainer.\n",
    "    trainer = Trainer(\n",
    "        model=model,\n",
    "        args=training_args,\n",
    "        train_dataset=dataset,\n",
    "        data_collator=data_collator,\n",
    "        callbacks=[loss_callback]\n",
    "    )\n",
    "\n",
    "    # start training.\n",
    "    print(\"Start training...\")\n",
    "    trainer.train()\n",
    "\n",
    "    # save model.\n",
    "    trainer.model.save_pretrained(output_path)\n",
    "    print(f\"Model saved to {output_path}\")\n",
    "\n",
    "    # plot loss curve.\n",
    "    plt.figure(figsize=(10, 6))\n",
    "    plt.plot(loss_callback.losses)\n",
    "    plt.title(\"Training Loss Curve\")\n",
    "    plt.xlabel(\"Steps\")\n",
    "    plt.ylabel(\"Loss\")\n",
    "    plt.savefig(os.path.join(output_path, \"loss_curve.png\"))\n",
    "    print(\"Loss curve saved to loss_curve.png\")\n",
    "    return model\n",
    "\n",
    "if __name__ == \"__main__\":\n",
    "    trained_model = main()"
   ]
  },
  {
   "cell_type": "code",
   "execution_count": 26,
   "metadata": {},
   "outputs": [],
   "source": [
    "params_after = {}\n",
    "for name, param in trained_model.named_parameters():\n",
    "    params_after[name] = param.detach().cpu().clone()"
   ]
  },
  {
   "cell_type": "code",
   "execution_count": 28,
   "metadata": {},
   "outputs": [
    {
     "data": {
      "text/plain": [
       "dict_keys(['transformer.wte.weight', 'transformer.wpe.weight', 'transformer.h.0.ln_1.weight', 'transformer.h.0.ln_1.bias', 'transformer.h.0.attn.c_attn.weight', 'transformer.h.0.attn.c_attn.bias', 'transformer.h.0.attn.c_proj.weight', 'transformer.h.0.attn.c_proj.bias', 'transformer.h.0.ln_2.weight', 'transformer.h.0.ln_2.bias', 'transformer.h.0.mlp.c_fc.weight', 'transformer.h.0.mlp.c_fc.bias', 'transformer.h.0.mlp.c_proj.weight', 'transformer.h.0.mlp.c_proj.bias', 'transformer.h.1.ln_1.weight', 'transformer.h.1.ln_1.bias', 'transformer.h.1.attn.c_attn.weight', 'transformer.h.1.attn.c_attn.bias', 'transformer.h.1.attn.c_proj.weight', 'transformer.h.1.attn.c_proj.bias', 'transformer.h.1.ln_2.weight', 'transformer.h.1.ln_2.bias', 'transformer.h.1.mlp.c_fc.weight', 'transformer.h.1.mlp.c_fc.bias', 'transformer.h.1.mlp.c_proj.weight', 'transformer.h.1.mlp.c_proj.bias', 'transformer.h.2.ln_1.weight', 'transformer.h.2.ln_1.bias', 'transformer.h.2.attn.c_attn.weight', 'transformer.h.2.attn.c_attn.bias', 'transformer.h.2.attn.c_proj.weight', 'transformer.h.2.attn.c_proj.bias', 'transformer.h.2.ln_2.weight', 'transformer.h.2.ln_2.bias', 'transformer.h.2.mlp.c_fc.weight', 'transformer.h.2.mlp.c_fc.bias', 'transformer.h.2.mlp.c_proj.weight', 'transformer.h.2.mlp.c_proj.bias', 'transformer.h.3.ln_1.weight', 'transformer.h.3.ln_1.bias', 'transformer.h.3.attn.c_attn.weight', 'transformer.h.3.attn.c_attn.bias', 'transformer.h.3.attn.c_proj.weight', 'transformer.h.3.attn.c_proj.bias', 'transformer.h.3.ln_2.weight', 'transformer.h.3.ln_2.bias', 'transformer.h.3.mlp.c_fc.weight', 'transformer.h.3.mlp.c_fc.bias', 'transformer.h.3.mlp.c_proj.weight', 'transformer.h.3.mlp.c_proj.bias', 'transformer.h.4.ln_1.weight', 'transformer.h.4.ln_1.bias', 'transformer.h.4.attn.c_attn.weight', 'transformer.h.4.attn.c_attn.bias', 'transformer.h.4.attn.c_proj.weight', 'transformer.h.4.attn.c_proj.bias', 'transformer.h.4.ln_2.weight', 'transformer.h.4.ln_2.bias', 'transformer.h.4.mlp.c_fc.weight', 'transformer.h.4.mlp.c_fc.bias', 'transformer.h.4.mlp.c_proj.weight', 'transformer.h.4.mlp.c_proj.bias', 'transformer.h.5.ln_1.weight', 'transformer.h.5.ln_1.bias', 'transformer.h.5.attn.c_attn.weight', 'transformer.h.5.attn.c_attn.bias', 'transformer.h.5.attn.c_proj.weight', 'transformer.h.5.attn.c_proj.bias', 'transformer.h.5.ln_2.weight', 'transformer.h.5.ln_2.bias', 'transformer.h.5.mlp.c_fc.weight', 'transformer.h.5.mlp.c_fc.bias', 'transformer.h.5.mlp.c_proj.weight', 'transformer.h.5.mlp.c_proj.bias', 'transformer.ln_f.weight', 'transformer.ln_f.bias'])"
      ]
     },
     "execution_count": 28,
     "metadata": {},
     "output_type": "execute_result"
    }
   ],
   "source": [
    "params_before.keys()"
   ]
  },
  {
   "cell_type": "code",
   "execution_count": 43,
   "metadata": {},
   "outputs": [
    {
     "name": "stdout",
     "output_type": "stream",
     "text": [
      "transformer.h.0.attn.c_attn.weight not present in params after training!\n",
      "transformer.h.0.attn.c_attn.bias not present in params after training!\n",
      "transformer.h.0.attn.c_proj.weight not present in params after training!\n",
      "transformer.h.0.attn.c_proj.bias not present in params after training!\n",
      "transformer.h.0.mlp.c_proj.weight not present in params after training!\n",
      "transformer.h.0.mlp.c_proj.bias not present in params after training!\n",
      "transformer.h.1.attn.c_attn.weight not present in params after training!\n",
      "transformer.h.1.attn.c_attn.bias not present in params after training!\n",
      "transformer.h.1.attn.c_proj.weight not present in params after training!\n",
      "transformer.h.1.attn.c_proj.bias not present in params after training!\n",
      "transformer.h.1.mlp.c_proj.weight not present in params after training!\n",
      "transformer.h.1.mlp.c_proj.bias not present in params after training!\n",
      "transformer.h.2.attn.c_attn.weight not present in params after training!\n",
      "transformer.h.2.attn.c_attn.bias not present in params after training!\n",
      "transformer.h.2.attn.c_proj.weight not present in params after training!\n",
      "transformer.h.2.attn.c_proj.bias not present in params after training!\n",
      "transformer.h.2.mlp.c_proj.weight not present in params after training!\n",
      "transformer.h.2.mlp.c_proj.bias not present in params after training!\n",
      "transformer.h.3.attn.c_attn.weight not present in params after training!\n",
      "transformer.h.3.attn.c_attn.bias not present in params after training!\n",
      "transformer.h.3.attn.c_proj.weight not present in params after training!\n",
      "transformer.h.3.attn.c_proj.bias not present in params after training!\n",
      "transformer.h.3.mlp.c_proj.weight not present in params after training!\n",
      "transformer.h.3.mlp.c_proj.bias not present in params after training!\n",
      "transformer.h.4.attn.c_attn.weight not present in params after training!\n",
      "transformer.h.4.attn.c_attn.bias not present in params after training!\n",
      "transformer.h.4.attn.c_proj.weight not present in params after training!\n",
      "transformer.h.4.attn.c_proj.bias not present in params after training!\n",
      "transformer.h.4.mlp.c_proj.weight not present in params after training!\n",
      "transformer.h.4.mlp.c_proj.bias not present in params after training!\n",
      "transformer.h.5.attn.c_attn.weight not present in params after training!\n",
      "transformer.h.5.attn.c_attn.bias not present in params after training!\n",
      "transformer.h.5.attn.c_proj.weight not present in params after training!\n",
      "transformer.h.5.attn.c_proj.bias not present in params after training!\n",
      "transformer.h.5.mlp.c_proj.weight not present in params after training!\n",
      "transformer.h.5.mlp.c_proj.bias not present in params after training!\n"
     ]
    }
   ],
   "source": [
    "for key in params_before.keys():\n",
    "    transformed_key = \"base_model.model.\" + key\n",
    "    if transformed_key not in params_after:\n",
    "        print(f\"{key} not present in params after training!\")"
   ]
  },
  {
   "cell_type": "code",
   "execution_count": 44,
   "metadata": {},
   "outputs": [
    {
     "data": {
      "text/plain": [
       "GPT2LMHeadModel(\n",
       "  (transformer): GPT2Model(\n",
       "    (wte): Embedding(50257, 768)\n",
       "    (wpe): Embedding(1024, 768)\n",
       "    (drop): Dropout(p=0.1, inplace=False)\n",
       "    (h): ModuleList(\n",
       "      (0-5): 6 x GPT2Block(\n",
       "        (ln_1): LayerNorm((768,), eps=1e-05, elementwise_affine=True)\n",
       "        (attn): GPT2Attention(\n",
       "          (c_attn): Conv1D(nf=2304, nx=768)\n",
       "          (c_proj): Conv1D(nf=768, nx=768)\n",
       "          (attn_dropout): Dropout(p=0.1, inplace=False)\n",
       "          (resid_dropout): Dropout(p=0.1, inplace=False)\n",
       "        )\n",
       "        (ln_2): LayerNorm((768,), eps=1e-05, elementwise_affine=True)\n",
       "        (mlp): GPT2MLP(\n",
       "          (c_fc): Conv1D(nf=3072, nx=768)\n",
       "          (c_proj): Conv1D(nf=768, nx=3072)\n",
       "          (act): NewGELUActivation()\n",
       "          (dropout): Dropout(p=0.1, inplace=False)\n",
       "        )\n",
       "      )\n",
       "    )\n",
       "    (ln_f): LayerNorm((768,), eps=1e-05, elementwise_affine=True)\n",
       "  )\n",
       "  (lm_head): Linear(in_features=768, out_features=50257, bias=False)\n",
       ")"
      ]
     },
     "execution_count": 44,
     "metadata": {},
     "output_type": "execute_result"
    }
   ],
   "source": [
    "model"
   ]
  },
  {
   "cell_type": "code",
   "execution_count": 45,
   "metadata": {},
   "outputs": [
    {
     "data": {
      "text/plain": [
       "PeftModelForCausalLM(\n",
       "  (base_model): LoraModel(\n",
       "    (model): GPT2LMHeadModel(\n",
       "      (transformer): GPT2Model(\n",
       "        (wte): Embedding(50257, 768)\n",
       "        (wpe): Embedding(1024, 768)\n",
       "        (drop): Dropout(p=0.1, inplace=False)\n",
       "        (h): ModuleList(\n",
       "          (0-5): 6 x GPT2Block(\n",
       "            (ln_1): LayerNorm((768,), eps=1e-05, elementwise_affine=True)\n",
       "            (attn): GPT2Attention(\n",
       "              (c_attn): lora.Linear(\n",
       "                (base_layer): Conv1D(nf=2304, nx=768)\n",
       "                (lora_dropout): ModuleDict(\n",
       "                  (default): Dropout(p=0.05, inplace=False)\n",
       "                )\n",
       "                (lora_A): ModuleDict(\n",
       "                  (default): Linear(in_features=768, out_features=16, bias=False)\n",
       "                )\n",
       "                (lora_B): ModuleDict(\n",
       "                  (default): Linear(in_features=16, out_features=2304, bias=False)\n",
       "                )\n",
       "                (lora_embedding_A): ParameterDict()\n",
       "                (lora_embedding_B): ParameterDict()\n",
       "                (lora_magnitude_vector): ModuleDict()\n",
       "              )\n",
       "              (c_proj): lora.Linear(\n",
       "                (base_layer): Conv1D(nf=768, nx=768)\n",
       "                (lora_dropout): ModuleDict(\n",
       "                  (default): Dropout(p=0.05, inplace=False)\n",
       "                )\n",
       "                (lora_A): ModuleDict(\n",
       "                  (default): Linear(in_features=768, out_features=16, bias=False)\n",
       "                )\n",
       "                (lora_B): ModuleDict(\n",
       "                  (default): Linear(in_features=16, out_features=768, bias=False)\n",
       "                )\n",
       "                (lora_embedding_A): ParameterDict()\n",
       "                (lora_embedding_B): ParameterDict()\n",
       "                (lora_magnitude_vector): ModuleDict()\n",
       "              )\n",
       "              (attn_dropout): Dropout(p=0.1, inplace=False)\n",
       "              (resid_dropout): Dropout(p=0.1, inplace=False)\n",
       "            )\n",
       "            (ln_2): LayerNorm((768,), eps=1e-05, elementwise_affine=True)\n",
       "            (mlp): GPT2MLP(\n",
       "              (c_fc): Conv1D(nf=3072, nx=768)\n",
       "              (c_proj): lora.Linear(\n",
       "                (base_layer): Conv1D(nf=768, nx=3072)\n",
       "                (lora_dropout): ModuleDict(\n",
       "                  (default): Dropout(p=0.05, inplace=False)\n",
       "                )\n",
       "                (lora_A): ModuleDict(\n",
       "                  (default): Linear(in_features=3072, out_features=16, bias=False)\n",
       "                )\n",
       "                (lora_B): ModuleDict(\n",
       "                  (default): Linear(in_features=16, out_features=768, bias=False)\n",
       "                )\n",
       "                (lora_embedding_A): ParameterDict()\n",
       "                (lora_embedding_B): ParameterDict()\n",
       "                (lora_magnitude_vector): ModuleDict()\n",
       "              )\n",
       "              (act): NewGELUActivation()\n",
       "              (dropout): Dropout(p=0.1, inplace=False)\n",
       "            )\n",
       "          )\n",
       "        )\n",
       "        (ln_f): LayerNorm((768,), eps=1e-05, elementwise_affine=True)\n",
       "      )\n",
       "      (lm_head): Linear(in_features=768, out_features=50257, bias=False)\n",
       "    )\n",
       "  )\n",
       ")"
      ]
     },
     "execution_count": 45,
     "metadata": {},
     "output_type": "execute_result"
    }
   ],
   "source": [
    "trained_model"
   ]
  },
  {
   "cell_type": "code",
   "execution_count": 38,
   "metadata": {},
   "outputs": [
    {
     "data": {
      "text/plain": [
       "dict_keys(['base_model.model.transformer.wte.weight', 'base_model.model.transformer.wpe.weight', 'base_model.model.transformer.h.0.ln_1.weight', 'base_model.model.transformer.h.0.ln_1.bias', 'base_model.model.transformer.h.0.attn.c_attn.base_layer.weight', 'base_model.model.transformer.h.0.attn.c_attn.base_layer.bias', 'base_model.model.transformer.h.0.attn.c_attn.lora_A.default.weight', 'base_model.model.transformer.h.0.attn.c_attn.lora_B.default.weight', 'base_model.model.transformer.h.0.attn.c_proj.base_layer.weight', 'base_model.model.transformer.h.0.attn.c_proj.base_layer.bias', 'base_model.model.transformer.h.0.attn.c_proj.lora_A.default.weight', 'base_model.model.transformer.h.0.attn.c_proj.lora_B.default.weight', 'base_model.model.transformer.h.0.ln_2.weight', 'base_model.model.transformer.h.0.ln_2.bias', 'base_model.model.transformer.h.0.mlp.c_fc.weight', 'base_model.model.transformer.h.0.mlp.c_fc.bias', 'base_model.model.transformer.h.0.mlp.c_proj.base_layer.weight', 'base_model.model.transformer.h.0.mlp.c_proj.base_layer.bias', 'base_model.model.transformer.h.0.mlp.c_proj.lora_A.default.weight', 'base_model.model.transformer.h.0.mlp.c_proj.lora_B.default.weight', 'base_model.model.transformer.h.1.ln_1.weight', 'base_model.model.transformer.h.1.ln_1.bias', 'base_model.model.transformer.h.1.attn.c_attn.base_layer.weight', 'base_model.model.transformer.h.1.attn.c_attn.base_layer.bias', 'base_model.model.transformer.h.1.attn.c_attn.lora_A.default.weight', 'base_model.model.transformer.h.1.attn.c_attn.lora_B.default.weight', 'base_model.model.transformer.h.1.attn.c_proj.base_layer.weight', 'base_model.model.transformer.h.1.attn.c_proj.base_layer.bias', 'base_model.model.transformer.h.1.attn.c_proj.lora_A.default.weight', 'base_model.model.transformer.h.1.attn.c_proj.lora_B.default.weight', 'base_model.model.transformer.h.1.ln_2.weight', 'base_model.model.transformer.h.1.ln_2.bias', 'base_model.model.transformer.h.1.mlp.c_fc.weight', 'base_model.model.transformer.h.1.mlp.c_fc.bias', 'base_model.model.transformer.h.1.mlp.c_proj.base_layer.weight', 'base_model.model.transformer.h.1.mlp.c_proj.base_layer.bias', 'base_model.model.transformer.h.1.mlp.c_proj.lora_A.default.weight', 'base_model.model.transformer.h.1.mlp.c_proj.lora_B.default.weight', 'base_model.model.transformer.h.2.ln_1.weight', 'base_model.model.transformer.h.2.ln_1.bias', 'base_model.model.transformer.h.2.attn.c_attn.base_layer.weight', 'base_model.model.transformer.h.2.attn.c_attn.base_layer.bias', 'base_model.model.transformer.h.2.attn.c_attn.lora_A.default.weight', 'base_model.model.transformer.h.2.attn.c_attn.lora_B.default.weight', 'base_model.model.transformer.h.2.attn.c_proj.base_layer.weight', 'base_model.model.transformer.h.2.attn.c_proj.base_layer.bias', 'base_model.model.transformer.h.2.attn.c_proj.lora_A.default.weight', 'base_model.model.transformer.h.2.attn.c_proj.lora_B.default.weight', 'base_model.model.transformer.h.2.ln_2.weight', 'base_model.model.transformer.h.2.ln_2.bias', 'base_model.model.transformer.h.2.mlp.c_fc.weight', 'base_model.model.transformer.h.2.mlp.c_fc.bias', 'base_model.model.transformer.h.2.mlp.c_proj.base_layer.weight', 'base_model.model.transformer.h.2.mlp.c_proj.base_layer.bias', 'base_model.model.transformer.h.2.mlp.c_proj.lora_A.default.weight', 'base_model.model.transformer.h.2.mlp.c_proj.lora_B.default.weight', 'base_model.model.transformer.h.3.ln_1.weight', 'base_model.model.transformer.h.3.ln_1.bias', 'base_model.model.transformer.h.3.attn.c_attn.base_layer.weight', 'base_model.model.transformer.h.3.attn.c_attn.base_layer.bias', 'base_model.model.transformer.h.3.attn.c_attn.lora_A.default.weight', 'base_model.model.transformer.h.3.attn.c_attn.lora_B.default.weight', 'base_model.model.transformer.h.3.attn.c_proj.base_layer.weight', 'base_model.model.transformer.h.3.attn.c_proj.base_layer.bias', 'base_model.model.transformer.h.3.attn.c_proj.lora_A.default.weight', 'base_model.model.transformer.h.3.attn.c_proj.lora_B.default.weight', 'base_model.model.transformer.h.3.ln_2.weight', 'base_model.model.transformer.h.3.ln_2.bias', 'base_model.model.transformer.h.3.mlp.c_fc.weight', 'base_model.model.transformer.h.3.mlp.c_fc.bias', 'base_model.model.transformer.h.3.mlp.c_proj.base_layer.weight', 'base_model.model.transformer.h.3.mlp.c_proj.base_layer.bias', 'base_model.model.transformer.h.3.mlp.c_proj.lora_A.default.weight', 'base_model.model.transformer.h.3.mlp.c_proj.lora_B.default.weight', 'base_model.model.transformer.h.4.ln_1.weight', 'base_model.model.transformer.h.4.ln_1.bias', 'base_model.model.transformer.h.4.attn.c_attn.base_layer.weight', 'base_model.model.transformer.h.4.attn.c_attn.base_layer.bias', 'base_model.model.transformer.h.4.attn.c_attn.lora_A.default.weight', 'base_model.model.transformer.h.4.attn.c_attn.lora_B.default.weight', 'base_model.model.transformer.h.4.attn.c_proj.base_layer.weight', 'base_model.model.transformer.h.4.attn.c_proj.base_layer.bias', 'base_model.model.transformer.h.4.attn.c_proj.lora_A.default.weight', 'base_model.model.transformer.h.4.attn.c_proj.lora_B.default.weight', 'base_model.model.transformer.h.4.ln_2.weight', 'base_model.model.transformer.h.4.ln_2.bias', 'base_model.model.transformer.h.4.mlp.c_fc.weight', 'base_model.model.transformer.h.4.mlp.c_fc.bias', 'base_model.model.transformer.h.4.mlp.c_proj.base_layer.weight', 'base_model.model.transformer.h.4.mlp.c_proj.base_layer.bias', 'base_model.model.transformer.h.4.mlp.c_proj.lora_A.default.weight', 'base_model.model.transformer.h.4.mlp.c_proj.lora_B.default.weight', 'base_model.model.transformer.h.5.ln_1.weight', 'base_model.model.transformer.h.5.ln_1.bias', 'base_model.model.transformer.h.5.attn.c_attn.base_layer.weight', 'base_model.model.transformer.h.5.attn.c_attn.base_layer.bias', 'base_model.model.transformer.h.5.attn.c_attn.lora_A.default.weight', 'base_model.model.transformer.h.5.attn.c_attn.lora_B.default.weight', 'base_model.model.transformer.h.5.attn.c_proj.base_layer.weight', 'base_model.model.transformer.h.5.attn.c_proj.base_layer.bias', 'base_model.model.transformer.h.5.attn.c_proj.lora_A.default.weight', 'base_model.model.transformer.h.5.attn.c_proj.lora_B.default.weight', 'base_model.model.transformer.h.5.ln_2.weight', 'base_model.model.transformer.h.5.ln_2.bias', 'base_model.model.transformer.h.5.mlp.c_fc.weight', 'base_model.model.transformer.h.5.mlp.c_fc.bias', 'base_model.model.transformer.h.5.mlp.c_proj.base_layer.weight', 'base_model.model.transformer.h.5.mlp.c_proj.base_layer.bias', 'base_model.model.transformer.h.5.mlp.c_proj.lora_A.default.weight', 'base_model.model.transformer.h.5.mlp.c_proj.lora_B.default.weight', 'base_model.model.transformer.ln_f.weight', 'base_model.model.transformer.ln_f.bias'])"
      ]
     },
     "execution_count": 38,
     "metadata": {},
     "output_type": "execute_result"
    }
   ],
   "source": [
    "params_after.keys()"
   ]
  },
  {
   "cell_type": "code",
   "execution_count": null,
   "metadata": {},
   "outputs": [],
   "source": [
    "dict(trained_model.named_modules())[\"base_model.model.transformer.h.0.attn.c_attn\"]"
   ]
  },
  {
   "cell_type": "code",
   "execution_count": 115,
   "metadata": {},
   "outputs": [
    {
     "name": "stdout",
     "output_type": "stream",
     "text": [
      "tensor([[[ 1.3895e-03, -2.3328e-01,  1.1973e+00,  ...,  1.3220e-01,\n",
      "          -2.4646e-01,  2.7246e-01],\n",
      "         [ 1.6455e-01, -2.1543e+00, -1.0022e-01,  ...,  2.0691e-02,\n",
      "           1.2549e-01,  2.7759e-01],\n",
      "         [-1.0651e-01, -2.6758e-01, -5.6787e-01,  ..., -9.2224e-02,\n",
      "          -2.0923e-01,  2.6782e-01],\n",
      "         [ 4.7632e-01, -1.0273e+00, -6.9580e-01,  ...,  1.4709e-01,\n",
      "           1.9226e-01,  1.5137e-01],\n",
      "         [-1.2286e-01, -1.8037e+00, -1.9922e+00,  ..., -7.2693e-02,\n",
      "           5.0995e-02,  3.1470e-01],\n",
      "         [-1.3857e+00, -2.1113e+00,  5.8105e-01,  ..., -6.9946e-02,\n",
      "           1.7041e-01,  6.5674e-02]]], device='cuda:0', dtype=torch.float16)\n",
      "tensor([[[-1.6642e-03, -2.4243e-01,  1.2021e+00,  ...,  1.2805e-01,\n",
      "          -2.4084e-01,  2.7515e-01],\n",
      "         [ 1.6370e-01, -2.1406e+00, -9.8328e-02,  ...,  2.8687e-02,\n",
      "           1.2622e-01,  2.8149e-01],\n",
      "         [-1.0724e-01, -2.7490e-01, -5.6250e-01,  ..., -9.0088e-02,\n",
      "          -2.1265e-01,  2.6733e-01],\n",
      "         [ 4.7485e-01, -1.0264e+00, -6.9727e-01,  ...,  1.5295e-01,\n",
      "           1.9116e-01,  1.5393e-01],\n",
      "         [-1.2341e-01, -1.7939e+00, -1.9951e+00,  ..., -6.8115e-02,\n",
      "           4.6661e-02,  3.1372e-01],\n",
      "         [-1.3857e+00, -2.1133e+00,  5.8350e-01,  ..., -6.7444e-02,\n",
      "           1.7456e-01,  7.0496e-02]]], device='cuda:0', dtype=torch.float16)\n"
     ]
    }
   ],
   "source": [
    "# Dummy input\n",
    "input_text = \"Hello, how are you?\"\n",
    "tokenizer = AutoTokenizer.from_pretrained(model_path)\n",
    "inputs = tokenizer(input_text, return_tensors=\"pt\").to(device)\n",
    "\n",
    "# Forward pass through the attention layer\n",
    "with torch.no_grad():\n",
    "    inputs = trained_model.model.transformer.wte(inputs.input_ids)\n",
    "    c_attn = trained_model.model.transformer.h[0].attn.c_attn\n",
    "    conv = c_attn.base_layer\n",
    "    A = c_attn.lora_A[\"default\"].weight\n",
    "    B = c_attn.lora_B[\"default\"].weight\n",
    "\n",
    "    mult = (B @ A).T\n",
    "    mult = mult.to(torch.float16)\n",
    "    mult = inputs @ mult\n",
    "    custom_output = conv(inputs) + mult\n",
    "    lora_output = trained_model.model.transformer.h[0].attn.c_attn(\n",
    "        inputs\n",
    "    )\n",
    "    print(custom_output)\n",
    "\n",
    "print(lora_output)"
   ]
  },
  {
   "cell_type": "code",
   "execution_count": 52,
   "metadata": {},
   "outputs": [
    {
     "name": "stdout",
     "output_type": "stream",
     "text": [
      "(tensor([[[ 5.9662e-03, -6.4502e-01,  8.1348e-01,  ..., -4.4739e-02,\n",
      "          -1.0846e-01,  1.1938e-01],\n",
      "         [-2.1094e-01, -7.8223e-01,  9.7852e-01,  ...,  8.9874e-03,\n",
      "          -6.7139e-02,  2.0386e-01],\n",
      "         [-1.8005e-01,  1.1865e+00,  2.8491e-01,  ...,  1.8282e-03,\n",
      "          -4.8492e-02,  1.3892e-01],\n",
      "         [-9.4043e-01,  7.9834e-01,  6.4600e-01,  ...,  4.9988e-02,\n",
      "          -4.3640e-02,  1.4905e-01],\n",
      "         [-1.6602e+00,  1.9355e+00,  5.1855e-01,  ...,  2.6077e-02,\n",
      "           4.5288e-02,  8.8745e-02],\n",
      "         [-1.7004e-01,  9.4775e-01,  7.8906e-01,  ...,  6.8176e-02,\n",
      "          -1.2231e-01,  1.2903e-01]]], device='cuda:0', dtype=torch.float16), None)\n"
     ]
    }
   ],
   "source": [
    "input_text = \"Hello, how are you?\"\n",
    "tokenizer = AutoTokenizer.from_pretrained(model_path)\n",
    "inputs = tokenizer(input_text, return_tensors=\"pt\").to(device)\n",
    "\n",
    "# Forward pass through the attention layer\n",
    "with torch.no_grad():\n",
    "    output = model.transformer.h[0].attn(\n",
    "        model.transformer.wte(inputs.input_ids)\n",
    "    )\n",
    "\n",
    "print(output)"
   ]
  },
  {
   "cell_type": "code",
   "execution_count": 55,
   "metadata": {},
   "outputs": [
    {
     "data": {
      "text/plain": [
       "torch.Size([1, 6, 768])"
      ]
     },
     "execution_count": 55,
     "metadata": {},
     "output_type": "execute_result"
    }
   ],
   "source": [
    "output[0].shape"
   ]
  },
  {
   "cell_type": "code",
   "execution_count": 56,
   "metadata": {},
   "outputs": [
    {
     "data": {
      "text/plain": [
       "torch.Size([1, 6, 768])"
      ]
     },
     "execution_count": 56,
     "metadata": {},
     "output_type": "execute_result"
    }
   ],
   "source": [
    "lora_output[0].shape"
   ]
  },
  {
   "cell_type": "code",
   "execution_count": 58,
   "metadata": {},
   "outputs": [
    {
     "data": {
      "text/plain": [
       "tensor([[[ 0.6519,  0.2373, -1.3818,  ..., -0.2002,  0.1562, -0.0157],\n",
       "         [ 0.0896,  0.1294, -0.2100,  ...,  0.0294,  0.0270, -0.0498],\n",
       "         [ 0.2969, -0.1543, -0.3987,  ...,  0.0509,  0.0052, -0.0853],\n",
       "         [-0.4858, -1.6016, -0.2412,  ..., -0.0413, -0.0234,  0.2356],\n",
       "         [ 0.3691,  1.9355,  0.5186,  ..., -0.0152,  0.0482,  0.0887],\n",
       "         [-1.4512,  0.2700,  0.7891,  ...,  0.0440, -0.0495,  0.0829]]],\n",
       "       device='cuda:0', dtype=torch.float16)"
      ]
     },
     "execution_count": 58,
     "metadata": {},
     "output_type": "execute_result"
    }
   ],
   "source": [
    "(output[0] - lora_output[0])"
   ]
  },
  {
   "cell_type": "code",
   "execution_count": 61,
   "metadata": {},
   "outputs": [
    {
     "data": {
      "text/plain": [
       "<generator object Module.named_modules at 0x79338ce8edc0>"
      ]
     },
     "execution_count": 61,
     "metadata": {},
     "output_type": "execute_result"
    }
   ],
   "source": [
    "model.named_modules()"
   ]
  },
  {
   "cell_type": "code",
   "execution_count": 74,
   "metadata": {},
   "outputs": [
    {
     "name": "stdout",
     "output_type": "stream",
     "text": [
      "Layer: base_model.model.transformer.h.0.attn.c_attn\n",
      "Weight corresponding to LORA :  torch.Size([768, 2304])\n",
      "Updated w shape :  torch.Size([768, 2304])\n",
      "LoRA A: torch.Size([16, 768])\n",
      "LoRA B: torch.Size([2304, 16])\n",
      "--------------------------------------------------\n",
      "Layer: base_model.model.transformer.h.0.attn.c_proj\n",
      "Weight corresponding to LORA :  torch.Size([768, 768])\n",
      "Updated w shape :  torch.Size([768, 768])\n",
      "LoRA A: torch.Size([16, 768])\n",
      "LoRA B: torch.Size([768, 16])\n",
      "--------------------------------------------------\n",
      "Layer: base_model.model.transformer.h.0.mlp.c_proj\n",
      "Weight corresponding to LORA :  torch.Size([3072, 768])\n",
      "Updated w shape :  torch.Size([3072, 768])\n",
      "LoRA A: torch.Size([16, 3072])\n",
      "LoRA B: torch.Size([768, 16])\n",
      "--------------------------------------------------\n",
      "Layer: base_model.model.transformer.h.1.attn.c_attn\n",
      "Weight corresponding to LORA :  torch.Size([768, 2304])\n",
      "Updated w shape :  torch.Size([768, 2304])\n",
      "LoRA A: torch.Size([16, 768])\n",
      "LoRA B: torch.Size([2304, 16])\n",
      "--------------------------------------------------\n",
      "Layer: base_model.model.transformer.h.1.attn.c_proj\n",
      "Weight corresponding to LORA :  torch.Size([768, 768])\n",
      "Updated w shape :  torch.Size([768, 768])\n",
      "LoRA A: torch.Size([16, 768])\n",
      "LoRA B: torch.Size([768, 16])\n",
      "--------------------------------------------------\n",
      "Layer: base_model.model.transformer.h.1.mlp.c_proj\n",
      "Weight corresponding to LORA :  torch.Size([3072, 768])\n",
      "Updated w shape :  torch.Size([3072, 768])\n",
      "LoRA A: torch.Size([16, 3072])\n",
      "LoRA B: torch.Size([768, 16])\n",
      "--------------------------------------------------\n",
      "Layer: base_model.model.transformer.h.2.attn.c_attn\n",
      "Weight corresponding to LORA :  torch.Size([768, 2304])\n",
      "Updated w shape :  torch.Size([768, 2304])\n",
      "LoRA A: torch.Size([16, 768])\n",
      "LoRA B: torch.Size([2304, 16])\n",
      "--------------------------------------------------\n",
      "Layer: base_model.model.transformer.h.2.attn.c_proj\n",
      "Weight corresponding to LORA :  torch.Size([768, 768])\n",
      "Updated w shape :  torch.Size([768, 768])\n",
      "LoRA A: torch.Size([16, 768])\n",
      "LoRA B: torch.Size([768, 16])\n",
      "--------------------------------------------------\n",
      "Layer: base_model.model.transformer.h.2.mlp.c_proj\n",
      "Weight corresponding to LORA :  torch.Size([3072, 768])\n",
      "Updated w shape :  torch.Size([3072, 768])\n",
      "LoRA A: torch.Size([16, 3072])\n",
      "LoRA B: torch.Size([768, 16])\n",
      "--------------------------------------------------\n",
      "Layer: base_model.model.transformer.h.3.attn.c_attn\n",
      "Weight corresponding to LORA :  torch.Size([768, 2304])\n",
      "Updated w shape :  torch.Size([768, 2304])\n",
      "LoRA A: torch.Size([16, 768])\n",
      "LoRA B: torch.Size([2304, 16])\n",
      "--------------------------------------------------\n",
      "Layer: base_model.model.transformer.h.3.attn.c_proj\n",
      "Weight corresponding to LORA :  torch.Size([768, 768])\n",
      "Updated w shape :  torch.Size([768, 768])\n",
      "LoRA A: torch.Size([16, 768])\n",
      "LoRA B: torch.Size([768, 16])\n",
      "--------------------------------------------------\n",
      "Layer: base_model.model.transformer.h.3.mlp.c_proj\n",
      "Weight corresponding to LORA :  torch.Size([3072, 768])\n",
      "Updated w shape :  torch.Size([3072, 768])\n",
      "LoRA A: torch.Size([16, 3072])\n",
      "LoRA B: torch.Size([768, 16])\n",
      "--------------------------------------------------\n",
      "Layer: base_model.model.transformer.h.4.attn.c_attn\n",
      "Weight corresponding to LORA :  torch.Size([768, 2304])\n",
      "Updated w shape :  torch.Size([768, 2304])\n",
      "LoRA A: torch.Size([16, 768])\n",
      "LoRA B: torch.Size([2304, 16])\n",
      "--------------------------------------------------\n",
      "Layer: base_model.model.transformer.h.4.attn.c_proj\n",
      "Weight corresponding to LORA :  torch.Size([768, 768])\n",
      "Updated w shape :  torch.Size([768, 768])\n",
      "LoRA A: torch.Size([16, 768])\n",
      "LoRA B: torch.Size([768, 16])\n",
      "--------------------------------------------------\n",
      "Layer: base_model.model.transformer.h.4.mlp.c_proj\n",
      "Weight corresponding to LORA :  torch.Size([3072, 768])\n",
      "Updated w shape :  torch.Size([3072, 768])\n",
      "LoRA A: torch.Size([16, 3072])\n",
      "LoRA B: torch.Size([768, 16])\n",
      "--------------------------------------------------\n",
      "Layer: base_model.model.transformer.h.5.attn.c_attn\n",
      "Weight corresponding to LORA :  torch.Size([768, 2304])\n",
      "Updated w shape :  torch.Size([768, 2304])\n",
      "LoRA A: torch.Size([16, 768])\n",
      "LoRA B: torch.Size([2304, 16])\n",
      "--------------------------------------------------\n",
      "Layer: base_model.model.transformer.h.5.attn.c_proj\n",
      "Weight corresponding to LORA :  torch.Size([768, 768])\n",
      "Updated w shape :  torch.Size([768, 768])\n",
      "LoRA A: torch.Size([16, 768])\n",
      "LoRA B: torch.Size([768, 16])\n",
      "--------------------------------------------------\n",
      "Layer: base_model.model.transformer.h.5.mlp.c_proj\n",
      "Weight corresponding to LORA :  torch.Size([3072, 768])\n",
      "Updated w shape :  torch.Size([3072, 768])\n",
      "LoRA A: torch.Size([16, 3072])\n",
      "LoRA B: torch.Size([768, 16])\n",
      "--------------------------------------------------\n"
     ]
    }
   ],
   "source": [
    "for name, module in trained_model.named_modules():\n",
    "    if \"lora_A\" in dict(module.named_modules()) and \"base_layer\" in dict(module.named_modules()):\n",
    "        print(f\"Layer: {name}\")\n",
    "        base_weight = module.base_layer.weight\n",
    "        print(\"Weight corresponding to LORA : \", base_weight.shape)\n",
    "        lora_A = module.lora_A[\"default\"].weight\n",
    "        lora_B = module.lora_B[\"default\"].weight\n",
    "        updated_W = base_weight + (lora_B @ lora_A).T\n",
    "        print(\"Updated w shape : \", updated_W.shape)\n",
    "        print(\"LoRA A:\", module.lora_A[\"default\"].weight.shape)\n",
    "        print(\"LoRA B:\", module.lora_B[\"default\"].weight.shape)\n",
    "        print(\"-\" * 50)"
   ]
  },
  {
   "cell_type": "code",
   "execution_count": null,
   "metadata": {},
   "outputs": [],
   "source": []
  }
 ],
 "metadata": {
  "kernelspec": {
   "display_name": "llm_project",
   "language": "python",
   "name": "python3"
  },
  "language_info": {
   "codemirror_mode": {
    "name": "ipython",
    "version": 3
   },
   "file_extension": ".py",
   "mimetype": "text/x-python",
   "name": "python",
   "nbconvert_exporter": "python",
   "pygments_lexer": "ipython3",
   "version": "3.10.12"
  }
 },
 "nbformat": 4,
 "nbformat_minor": 2
}
